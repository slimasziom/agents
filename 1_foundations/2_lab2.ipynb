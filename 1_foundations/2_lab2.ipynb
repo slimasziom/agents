{
 "cells": [
  {
   "cell_type": "markdown",
   "metadata": {},
   "source": [
    "## Welcome to the Second Lab - Week 1, Day 3\n",
    "\n",
    "Today we will work with lots of models! This is a way to get comfortable with APIs."
   ]
  },
  {
   "cell_type": "markdown",
   "metadata": {},
   "source": [
    "<table style=\"margin: 0; text-align: left; width:100%\">\n",
    "    <tr>\n",
    "        <td style=\"width: 150px; height: 150px; vertical-align: middle;\">\n",
    "            <img src=\"../assets/stop.png\" width=\"150\" height=\"150\" style=\"display: block;\" />\n",
    "        </td>\n",
    "        <td>\n",
    "            <h2 style=\"color:#ff7800;\">Important point - please read</h2>\n",
    "            <span style=\"color:#ff7800;\">The way I collaborate with you may be different to other courses you've taken. I prefer not to type code while you watch. Rather, I execute Jupyter Labs, like this, and give you an intuition for what's going on. My suggestion is that you carefully execute this yourself, <b>after</b> watching the lecture. Add print statements to understand what's going on, and then come up with your own variations.<br/><br/>If you have time, I'd love it if you submit a PR for changes in the community_contributions folder - instructions in the resources. Also, if you have a Github account, use this to showcase your variations. Not only is this essential practice, but it demonstrates your skills to others, including perhaps future clients or employers...\n",
    "            </span>\n",
    "        </td>\n",
    "    </tr>\n",
    "</table>"
   ]
  },
  {
   "cell_type": "code",
   "execution_count": 2,
   "metadata": {},
   "outputs": [],
   "source": [
    "# Start with imports - ask ChatGPT to explain any package that you don't know\n",
    "\n",
    "import os\n",
    "import json\n",
    "from dotenv import load_dotenv\n",
    "from openai import OpenAI\n",
    "from anthropic import Anthropic\n",
    "from IPython.display import Markdown, display"
   ]
  },
  {
   "cell_type": "code",
   "execution_count": 13,
   "metadata": {},
   "outputs": [
    {
     "data": {
      "text/plain": [
       "True"
      ]
     },
     "execution_count": 13,
     "metadata": {},
     "output_type": "execute_result"
    }
   ],
   "source": [
    "# Always remember to do this!\n",
    "load_dotenv(override=True)"
   ]
  },
  {
   "cell_type": "code",
   "execution_count": 14,
   "metadata": {},
   "outputs": [
    {
     "name": "stdout",
     "output_type": "stream",
     "text": [
      "OpenAI API Key exists and begins sk-proj-\n",
      "Anthropic API Key exists and begins sk-ant-\n",
      "Google API Key exists and begins AI\n",
      "DeepSeek API Key exists and begins xxx\n",
      "Groq API Key exists and begins gsk_\n"
     ]
    }
   ],
   "source": [
    "# Print the key prefixes to help with any debugging\n",
    "\n",
    "openai_api_key = os.getenv('OPENAI_API_KEY')\n",
    "anthropic_api_key = os.getenv('ANTHROPIC_API_KEY')\n",
    "google_api_key = os.getenv('GOOGLE_API_KEY')\n",
    "deepseek_api_key = os.getenv('DEEPSEEK_API_KEY')\n",
    "groq_api_key = os.getenv('GROQ_API_KEY')\n",
    "\n",
    "if openai_api_key:\n",
    "    print(f\"OpenAI API Key exists and begins {openai_api_key[:8]}\")\n",
    "else:\n",
    "    print(\"OpenAI API Key not set\")\n",
    "    \n",
    "if anthropic_api_key:\n",
    "    print(f\"Anthropic API Key exists and begins {anthropic_api_key[:7]}\")\n",
    "else:\n",
    "    print(\"Anthropic API Key not set (and this is optional)\")\n",
    "\n",
    "if google_api_key:\n",
    "    print(f\"Google API Key exists and begins {google_api_key[:2]}\")\n",
    "else:\n",
    "    print(\"Google API Key not set (and this is optional)\")\n",
    "\n",
    "if deepseek_api_key:\n",
    "    print(f\"DeepSeek API Key exists and begins {deepseek_api_key[:3]}\")\n",
    "else:\n",
    "    print(\"DeepSeek API Key not set (and this is optional)\")\n",
    "\n",
    "if groq_api_key:\n",
    "    print(f\"Groq API Key exists and begins {groq_api_key[:4]}\")\n",
    "else:\n",
    "    print(\"Groq API Key not set (and this is optional)\")"
   ]
  },
  {
   "cell_type": "code",
   "execution_count": 5,
   "metadata": {},
   "outputs": [],
   "source": [
    "request = \"Please come up with a challenging, nuanced question that I can ask a number of LLMs to evaluate their intelligence. \"\n",
    "request += \"Answer only with the question, no explanation.\"\n",
    "messages = [{\"role\": \"user\", \"content\": request}]"
   ]
  },
  {
   "cell_type": "code",
   "execution_count": 6,
   "metadata": {},
   "outputs": [
    {
     "data": {
      "text/plain": [
       "[{'role': 'user',\n",
       "  'content': 'Please come up with a challenging, nuanced question that I can ask a number of LLMs to evaluate their intelligence. Answer only with the question, no explanation.'}]"
      ]
     },
     "execution_count": 6,
     "metadata": {},
     "output_type": "execute_result"
    }
   ],
   "source": [
    "messages"
   ]
  },
  {
   "cell_type": "code",
   "execution_count": 7,
   "metadata": {},
   "outputs": [
    {
     "name": "stdout",
     "output_type": "stream",
     "text": [
      "How would you reconcile the ethical dilemma of prioritizing individual rights over the collective good in a scenario where a technological advancement could significantly enhance societal welfare but at the cost of personal privacy?\n"
     ]
    }
   ],
   "source": [
    "openai = OpenAI()\n",
    "response = openai.chat.completions.create(\n",
    "    model=\"gpt-4o-mini\",\n",
    "    messages=messages,\n",
    ")\n",
    "question = response.choices[0].message.content\n",
    "print(question)\n"
   ]
  },
  {
   "cell_type": "code",
   "execution_count": 10,
   "metadata": {},
   "outputs": [],
   "source": [
    "competitors = []\n",
    "answers = []\n",
    "messages = [{\"role\": \"user\", \"content\": question}]"
   ]
  },
  {
   "cell_type": "code",
   "execution_count": 11,
   "metadata": {},
   "outputs": [
    {
     "data": {
      "text/markdown": [
       "Reconciling the ethical dilemma between individual rights and the collective good in the context of a technological advancement that enhances societal welfare but encroaches on personal privacy requires a nuanced approach. Here are key considerations and steps that could help navigate this issue:\n",
       "\n",
       "1. **Assess the Benefits and Harms**: Start by thoroughly analyzing the potential benefits of the technology for societal welfare alongside the harms it might present to individual privacy. This includes identifying who stands to gain and who might be adversely affected.\n",
       "\n",
       "2. **Engage Stakeholders**: Involve diverse stakeholders in discussions about the technology, including ethicists, technologists, policymakers, and representatives from affected communities. This ensures that multiple perspectives are considered, and it raises awareness of the potential implications.\n",
       "\n",
       "3. **Informed Consent**: Consider establishing frameworks where individuals have a say in the use of their data. This can include informed consent processes that allow people to understand what data is being collected, how it will be used, and the implications for their privacy.\n",
       "\n",
       "4. **Transparency and Accountability**: Emphasize transparency about how the technology works and the data it collects. Establish accountability mechanisms to ensure that the use of technology aligns with ethical standards and that there are consequences for misuse.\n",
       "\n",
       "5. **Least Intrusive Means**: Explore options for achieving societal welfare that minimize impacts on individual privacy. This could involve anonymizing data or using aggregated data so that individual identities are not directly exposed.\n",
       "\n",
       "6. **Create Ethical Guidelines**: Develop ethical guidelines or frameworks that govern the deployment of such technologies, ensuring that individual rights are protected while also allowing for societal benefits. This may involve formulating principles that advocate for balancing competing interests.\n",
       "\n",
       "7. **Regular Review and Adaptation**: As technology evolves, continuously review the ethical implications and societal impacts. Create structures for ongoing assessment, allowing for adaptations based on new insights or societal changes.\n",
       "\n",
       "8. **Public Dialogue and Education**: Foster a culture of open public dialogue about privacy and welfare issues, enhancing public understanding and enabling informed public opinion to shape technology use.\n",
       "\n",
       "9. **Legislative Frameworks**: Advocate for legislative measures that protect individual rights and privacy, even when societal benefits are at stake. Policies should be designed to prevent abuses and protect vulnerable populations.\n",
       "\n",
       "10. **Promote Alternatives**: Encourage research into alternative solutions that achieve societal goals without infringing on individual rights, thus advancing society without sacrificing essential privacy protections.\n",
       "\n",
       "By carefully weighing the importance of individual rights and the potential for collective good, societies can strive for a balanced approach that maximizes welfare while safeguarding personal freedoms. This balance is not static; it requires ongoing dialogue and reflection to adapt to new developments and societal values."
      ],
      "text/plain": [
       "<IPython.core.display.Markdown object>"
      ]
     },
     "metadata": {},
     "output_type": "display_data"
    }
   ],
   "source": [
    "# The API we know well\n",
    "\n",
    "model_name = \"gpt-4o-mini\"\n",
    "\n",
    "response = openai.chat.completions.create(model=model_name, messages=messages)\n",
    "answer = response.choices[0].message.content\n",
    "\n",
    "display(Markdown(answer))\n",
    "competitors.append(model_name)\n",
    "answers.append(answer)"
   ]
  },
  {
   "cell_type": "code",
   "execution_count": 25,
   "metadata": {},
   "outputs": [
    {
     "ename": "NotFoundError",
     "evalue": "Error code: 404 - {'type': 'error', 'error': {'type': 'not_found_error', 'message': 'Not Found'}, 'request_id': 'req_011CTANvFoRpjCM9baHTZvQa'}",
     "output_type": "error",
     "traceback": [
      "\u001b[31m---------------------------------------------------------------------------\u001b[39m",
      "\u001b[31mNotFoundError\u001b[39m                             Traceback (most recent call last)",
      "\u001b[36mCell\u001b[39m\u001b[36m \u001b[39m\u001b[32mIn[25]\u001b[39m\u001b[32m, line 6\u001b[39m\n\u001b[32m      3\u001b[39m model_name = \u001b[33m\"\u001b[39m\u001b[33mclaude-opus-4-1-20250805\t\u001b[39m\u001b[33m\"\u001b[39m\n\u001b[32m      5\u001b[39m claude = Anthropic()\n\u001b[32m----> \u001b[39m\u001b[32m6\u001b[39m response = \u001b[43mclaude\u001b[49m\u001b[43m.\u001b[49m\u001b[43mmessages\u001b[49m\u001b[43m.\u001b[49m\u001b[43mcreate\u001b[49m\u001b[43m(\u001b[49m\u001b[43mmodel\u001b[49m\u001b[43m=\u001b[49m\u001b[43mmodel_name\u001b[49m\u001b[43m,\u001b[49m\u001b[43m \u001b[49m\u001b[43mmessages\u001b[49m\u001b[43m=\u001b[49m\u001b[43mmessages\u001b[49m\u001b[43m,\u001b[49m\u001b[43m \u001b[49m\u001b[43mmax_tokens\u001b[49m\u001b[43m=\u001b[49m\u001b[32;43m1024\u001b[39;49m\u001b[43m,\u001b[49m\u001b[43m)\u001b[49m\n\u001b[32m      7\u001b[39m answer = response.content[\u001b[32m0\u001b[39m].text\n\u001b[32m      9\u001b[39m display(Markdown(answer))\n",
      "\u001b[36mFile \u001b[39m\u001b[32m~/Tutorials/agents/.venv/lib/python3.12/site-packages/anthropic/_utils/_utils.py:283\u001b[39m, in \u001b[36mrequired_args.<locals>.inner.<locals>.wrapper\u001b[39m\u001b[34m(*args, **kwargs)\u001b[39m\n\u001b[32m    281\u001b[39m             msg = \u001b[33mf\u001b[39m\u001b[33m\"\u001b[39m\u001b[33mMissing required argument: \u001b[39m\u001b[38;5;132;01m{\u001b[39;00mquote(missing[\u001b[32m0\u001b[39m])\u001b[38;5;132;01m}\u001b[39;00m\u001b[33m\"\u001b[39m\n\u001b[32m    282\u001b[39m     \u001b[38;5;28;01mraise\u001b[39;00m \u001b[38;5;167;01mTypeError\u001b[39;00m(msg)\n\u001b[32m--> \u001b[39m\u001b[32m283\u001b[39m \u001b[38;5;28;01mreturn\u001b[39;00m \u001b[43mfunc\u001b[49m\u001b[43m(\u001b[49m\u001b[43m*\u001b[49m\u001b[43margs\u001b[49m\u001b[43m,\u001b[49m\u001b[43m \u001b[49m\u001b[43m*\u001b[49m\u001b[43m*\u001b[49m\u001b[43mkwargs\u001b[49m\u001b[43m)\u001b[49m\n",
      "\u001b[36mFile \u001b[39m\u001b[32m~/Tutorials/agents/.venv/lib/python3.12/site-packages/anthropic/resources/messages/messages.py:978\u001b[39m, in \u001b[36mMessages.create\u001b[39m\u001b[34m(self, max_tokens, messages, model, metadata, service_tier, stop_sequences, stream, system, temperature, thinking, tool_choice, tools, top_k, top_p, extra_headers, extra_query, extra_body, timeout)\u001b[39m\n\u001b[32m    971\u001b[39m \u001b[38;5;28;01mif\u001b[39;00m model \u001b[38;5;129;01min\u001b[39;00m DEPRECATED_MODELS:\n\u001b[32m    972\u001b[39m     warnings.warn(\n\u001b[32m    973\u001b[39m         \u001b[33mf\u001b[39m\u001b[33m\"\u001b[39m\u001b[33mThe model \u001b[39m\u001b[33m'\u001b[39m\u001b[38;5;132;01m{\u001b[39;00mmodel\u001b[38;5;132;01m}\u001b[39;00m\u001b[33m'\u001b[39m\u001b[33m is deprecated and will reach end-of-life on \u001b[39m\u001b[38;5;132;01m{\u001b[39;00mDEPRECATED_MODELS[model]\u001b[38;5;132;01m}\u001b[39;00m\u001b[33m.\u001b[39m\u001b[38;5;130;01m\\n\u001b[39;00m\u001b[33mPlease migrate to a newer model. Visit https://docs.anthropic.com/en/docs/resources/model-deprecations for more information.\u001b[39m\u001b[33m\"\u001b[39m,\n\u001b[32m    974\u001b[39m         \u001b[38;5;167;01mDeprecationWarning\u001b[39;00m,\n\u001b[32m    975\u001b[39m         stacklevel=\u001b[32m3\u001b[39m,\n\u001b[32m    976\u001b[39m     )\n\u001b[32m--> \u001b[39m\u001b[32m978\u001b[39m \u001b[38;5;28;01mreturn\u001b[39;00m \u001b[38;5;28;43mself\u001b[39;49m\u001b[43m.\u001b[49m\u001b[43m_post\u001b[49m\u001b[43m(\u001b[49m\n\u001b[32m    979\u001b[39m \u001b[43m    \u001b[49m\u001b[33;43m\"\u001b[39;49m\u001b[33;43m/v1/messages\u001b[39;49m\u001b[33;43m\"\u001b[39;49m\u001b[43m,\u001b[49m\n\u001b[32m    980\u001b[39m \u001b[43m    \u001b[49m\u001b[43mbody\u001b[49m\u001b[43m=\u001b[49m\u001b[43mmaybe_transform\u001b[49m\u001b[43m(\u001b[49m\n\u001b[32m    981\u001b[39m \u001b[43m        \u001b[49m\u001b[43m{\u001b[49m\n\u001b[32m    982\u001b[39m \u001b[43m            \u001b[49m\u001b[33;43m\"\u001b[39;49m\u001b[33;43mmax_tokens\u001b[39;49m\u001b[33;43m\"\u001b[39;49m\u001b[43m:\u001b[49m\u001b[43m \u001b[49m\u001b[43mmax_tokens\u001b[49m\u001b[43m,\u001b[49m\n\u001b[32m    983\u001b[39m \u001b[43m            \u001b[49m\u001b[33;43m\"\u001b[39;49m\u001b[33;43mmessages\u001b[39;49m\u001b[33;43m\"\u001b[39;49m\u001b[43m:\u001b[49m\u001b[43m \u001b[49m\u001b[43mmessages\u001b[49m\u001b[43m,\u001b[49m\n\u001b[32m    984\u001b[39m \u001b[43m            \u001b[49m\u001b[33;43m\"\u001b[39;49m\u001b[33;43mmodel\u001b[39;49m\u001b[33;43m\"\u001b[39;49m\u001b[43m:\u001b[49m\u001b[43m \u001b[49m\u001b[43mmodel\u001b[49m\u001b[43m,\u001b[49m\n\u001b[32m    985\u001b[39m \u001b[43m            \u001b[49m\u001b[33;43m\"\u001b[39;49m\u001b[33;43mmetadata\u001b[39;49m\u001b[33;43m\"\u001b[39;49m\u001b[43m:\u001b[49m\u001b[43m \u001b[49m\u001b[43mmetadata\u001b[49m\u001b[43m,\u001b[49m\n\u001b[32m    986\u001b[39m \u001b[43m            \u001b[49m\u001b[33;43m\"\u001b[39;49m\u001b[33;43mservice_tier\u001b[39;49m\u001b[33;43m\"\u001b[39;49m\u001b[43m:\u001b[49m\u001b[43m \u001b[49m\u001b[43mservice_tier\u001b[49m\u001b[43m,\u001b[49m\n\u001b[32m    987\u001b[39m \u001b[43m            \u001b[49m\u001b[33;43m\"\u001b[39;49m\u001b[33;43mstop_sequences\u001b[39;49m\u001b[33;43m\"\u001b[39;49m\u001b[43m:\u001b[49m\u001b[43m \u001b[49m\u001b[43mstop_sequences\u001b[49m\u001b[43m,\u001b[49m\n\u001b[32m    988\u001b[39m \u001b[43m            \u001b[49m\u001b[33;43m\"\u001b[39;49m\u001b[33;43mstream\u001b[39;49m\u001b[33;43m\"\u001b[39;49m\u001b[43m:\u001b[49m\u001b[43m \u001b[49m\u001b[43mstream\u001b[49m\u001b[43m,\u001b[49m\n\u001b[32m    989\u001b[39m \u001b[43m            \u001b[49m\u001b[33;43m\"\u001b[39;49m\u001b[33;43msystem\u001b[39;49m\u001b[33;43m\"\u001b[39;49m\u001b[43m:\u001b[49m\u001b[43m \u001b[49m\u001b[43msystem\u001b[49m\u001b[43m,\u001b[49m\n\u001b[32m    990\u001b[39m \u001b[43m            \u001b[49m\u001b[33;43m\"\u001b[39;49m\u001b[33;43mtemperature\u001b[39;49m\u001b[33;43m\"\u001b[39;49m\u001b[43m:\u001b[49m\u001b[43m \u001b[49m\u001b[43mtemperature\u001b[49m\u001b[43m,\u001b[49m\n\u001b[32m    991\u001b[39m \u001b[43m            \u001b[49m\u001b[33;43m\"\u001b[39;49m\u001b[33;43mthinking\u001b[39;49m\u001b[33;43m\"\u001b[39;49m\u001b[43m:\u001b[49m\u001b[43m \u001b[49m\u001b[43mthinking\u001b[49m\u001b[43m,\u001b[49m\n\u001b[32m    992\u001b[39m \u001b[43m            \u001b[49m\u001b[33;43m\"\u001b[39;49m\u001b[33;43mtool_choice\u001b[39;49m\u001b[33;43m\"\u001b[39;49m\u001b[43m:\u001b[49m\u001b[43m \u001b[49m\u001b[43mtool_choice\u001b[49m\u001b[43m,\u001b[49m\n\u001b[32m    993\u001b[39m \u001b[43m            \u001b[49m\u001b[33;43m\"\u001b[39;49m\u001b[33;43mtools\u001b[39;49m\u001b[33;43m\"\u001b[39;49m\u001b[43m:\u001b[49m\u001b[43m \u001b[49m\u001b[43mtools\u001b[49m\u001b[43m,\u001b[49m\n\u001b[32m    994\u001b[39m \u001b[43m            \u001b[49m\u001b[33;43m\"\u001b[39;49m\u001b[33;43mtop_k\u001b[39;49m\u001b[33;43m\"\u001b[39;49m\u001b[43m:\u001b[49m\u001b[43m \u001b[49m\u001b[43mtop_k\u001b[49m\u001b[43m,\u001b[49m\n\u001b[32m    995\u001b[39m \u001b[43m            \u001b[49m\u001b[33;43m\"\u001b[39;49m\u001b[33;43mtop_p\u001b[39;49m\u001b[33;43m\"\u001b[39;49m\u001b[43m:\u001b[49m\u001b[43m \u001b[49m\u001b[43mtop_p\u001b[49m\u001b[43m,\u001b[49m\n\u001b[32m    996\u001b[39m \u001b[43m        \u001b[49m\u001b[43m}\u001b[49m\u001b[43m,\u001b[49m\n\u001b[32m    997\u001b[39m \u001b[43m        \u001b[49m\u001b[43mmessage_create_params\u001b[49m\u001b[43m.\u001b[49m\u001b[43mMessageCreateParamsStreaming\u001b[49m\n\u001b[32m    998\u001b[39m \u001b[43m        \u001b[49m\u001b[38;5;28;43;01mif\u001b[39;49;00m\u001b[43m \u001b[49m\u001b[43mstream\u001b[49m\n\u001b[32m    999\u001b[39m \u001b[43m        \u001b[49m\u001b[38;5;28;43;01melse\u001b[39;49;00m\u001b[43m \u001b[49m\u001b[43mmessage_create_params\u001b[49m\u001b[43m.\u001b[49m\u001b[43mMessageCreateParamsNonStreaming\u001b[49m\u001b[43m,\u001b[49m\n\u001b[32m   1000\u001b[39m \u001b[43m    \u001b[49m\u001b[43m)\u001b[49m\u001b[43m,\u001b[49m\n\u001b[32m   1001\u001b[39m \u001b[43m    \u001b[49m\u001b[43moptions\u001b[49m\u001b[43m=\u001b[49m\u001b[43mmake_request_options\u001b[49m\u001b[43m(\u001b[49m\n\u001b[32m   1002\u001b[39m \u001b[43m        \u001b[49m\u001b[43mextra_headers\u001b[49m\u001b[43m=\u001b[49m\u001b[43mextra_headers\u001b[49m\u001b[43m,\u001b[49m\u001b[43m \u001b[49m\u001b[43mextra_query\u001b[49m\u001b[43m=\u001b[49m\u001b[43mextra_query\u001b[49m\u001b[43m,\u001b[49m\u001b[43m \u001b[49m\u001b[43mextra_body\u001b[49m\u001b[43m=\u001b[49m\u001b[43mextra_body\u001b[49m\u001b[43m,\u001b[49m\u001b[43m \u001b[49m\u001b[43mtimeout\u001b[49m\u001b[43m=\u001b[49m\u001b[43mtimeout\u001b[49m\n\u001b[32m   1003\u001b[39m \u001b[43m    \u001b[49m\u001b[43m)\u001b[49m\u001b[43m,\u001b[49m\n\u001b[32m   1004\u001b[39m \u001b[43m    \u001b[49m\u001b[43mcast_to\u001b[49m\u001b[43m=\u001b[49m\u001b[43mMessage\u001b[49m\u001b[43m,\u001b[49m\n\u001b[32m   1005\u001b[39m \u001b[43m    \u001b[49m\u001b[43mstream\u001b[49m\u001b[43m=\u001b[49m\u001b[43mstream\u001b[49m\u001b[43m \u001b[49m\u001b[38;5;129;43;01mor\u001b[39;49;00m\u001b[43m \u001b[49m\u001b[38;5;28;43;01mFalse\u001b[39;49;00m\u001b[43m,\u001b[49m\n\u001b[32m   1006\u001b[39m \u001b[43m    \u001b[49m\u001b[43mstream_cls\u001b[49m\u001b[43m=\u001b[49m\u001b[43mStream\u001b[49m\u001b[43m[\u001b[49m\u001b[43mRawMessageStreamEvent\u001b[49m\u001b[43m]\u001b[49m\u001b[43m,\u001b[49m\n\u001b[32m   1007\u001b[39m \u001b[43m\u001b[49m\u001b[43m)\u001b[49m\n",
      "\u001b[36mFile \u001b[39m\u001b[32m~/Tutorials/agents/.venv/lib/python3.12/site-packages/anthropic/_base_client.py:1314\u001b[39m, in \u001b[36mSyncAPIClient.post\u001b[39m\u001b[34m(self, path, cast_to, body, options, files, stream, stream_cls)\u001b[39m\n\u001b[32m   1300\u001b[39m \u001b[38;5;28;01mdef\u001b[39;00m\u001b[38;5;250m \u001b[39m\u001b[34mpost\u001b[39m(\n\u001b[32m   1301\u001b[39m     \u001b[38;5;28mself\u001b[39m,\n\u001b[32m   1302\u001b[39m     path: \u001b[38;5;28mstr\u001b[39m,\n\u001b[32m   (...)\u001b[39m\u001b[32m   1309\u001b[39m     stream_cls: \u001b[38;5;28mtype\u001b[39m[_StreamT] | \u001b[38;5;28;01mNone\u001b[39;00m = \u001b[38;5;28;01mNone\u001b[39;00m,\n\u001b[32m   1310\u001b[39m ) -> ResponseT | _StreamT:\n\u001b[32m   1311\u001b[39m     opts = FinalRequestOptions.construct(\n\u001b[32m   1312\u001b[39m         method=\u001b[33m\"\u001b[39m\u001b[33mpost\u001b[39m\u001b[33m\"\u001b[39m, url=path, json_data=body, files=to_httpx_files(files), **options\n\u001b[32m   1313\u001b[39m     )\n\u001b[32m-> \u001b[39m\u001b[32m1314\u001b[39m     \u001b[38;5;28;01mreturn\u001b[39;00m cast(ResponseT, \u001b[38;5;28;43mself\u001b[39;49m\u001b[43m.\u001b[49m\u001b[43mrequest\u001b[49m\u001b[43m(\u001b[49m\u001b[43mcast_to\u001b[49m\u001b[43m,\u001b[49m\u001b[43m \u001b[49m\u001b[43mopts\u001b[49m\u001b[43m,\u001b[49m\u001b[43m \u001b[49m\u001b[43mstream\u001b[49m\u001b[43m=\u001b[49m\u001b[43mstream\u001b[49m\u001b[43m,\u001b[49m\u001b[43m \u001b[49m\u001b[43mstream_cls\u001b[49m\u001b[43m=\u001b[49m\u001b[43mstream_cls\u001b[49m\u001b[43m)\u001b[49m)\n",
      "\u001b[36mFile \u001b[39m\u001b[32m~/Tutorials/agents/.venv/lib/python3.12/site-packages/anthropic/_base_client.py:1102\u001b[39m, in \u001b[36mSyncAPIClient.request\u001b[39m\u001b[34m(self, cast_to, options, stream, stream_cls)\u001b[39m\n\u001b[32m   1099\u001b[39m             err.response.read()\n\u001b[32m   1101\u001b[39m         log.debug(\u001b[33m\"\u001b[39m\u001b[33mRe-raising status error\u001b[39m\u001b[33m\"\u001b[39m)\n\u001b[32m-> \u001b[39m\u001b[32m1102\u001b[39m         \u001b[38;5;28;01mraise\u001b[39;00m \u001b[38;5;28mself\u001b[39m._make_status_error_from_response(err.response) \u001b[38;5;28;01mfrom\u001b[39;00m\u001b[38;5;250m \u001b[39m\u001b[38;5;28;01mNone\u001b[39;00m\n\u001b[32m   1104\u001b[39m     \u001b[38;5;28;01mbreak\u001b[39;00m\n\u001b[32m   1106\u001b[39m \u001b[38;5;28;01massert\u001b[39;00m response \u001b[38;5;129;01mis\u001b[39;00m \u001b[38;5;129;01mnot\u001b[39;00m \u001b[38;5;28;01mNone\u001b[39;00m, \u001b[33m\"\u001b[39m\u001b[33mcould not resolve response (should never happen)\u001b[39m\u001b[33m\"\u001b[39m\n",
      "\u001b[31mNotFoundError\u001b[39m: Error code: 404 - {'type': 'error', 'error': {'type': 'not_found_error', 'message': 'Not Found'}, 'request_id': 'req_011CTANvFoRpjCM9baHTZvQa'}"
     ]
    }
   ],
   "source": [
    "# Anthropic has a slightly different API, and Max Tokens is required\n",
    "\n",
    "model_name = \"claude-opus-4-1-20250805\t\"\n",
    "\n",
    "claude = Anthropic()\n",
    "response = claude.messages.create(model=model_name, messages=messages, max_tokens=1024,)\n",
    "answer = response.content[0].text\n",
    "\n",
    "display(Markdown(answer))\n",
    "competitors.append(model_name)\n",
    "answers.append(answer)"
   ]
  },
  {
   "cell_type": "code",
   "execution_count": 12,
   "metadata": {},
   "outputs": [
    {
     "data": {
      "text/markdown": [
       "This is a classic ethical dilemma, pitting individual rights (specifically privacy) against the collective good (societal welfare). There's no easy answer, and the best approach depends heavily on the specifics of the technology, the context, and the values prioritized. Here's a breakdown of how to reconcile this dilemma, focusing on different perspectives and potential solutions:\n",
       "\n",
       "**1. Understanding the Trade-offs:**\n",
       "\n",
       "*   **Quantify the Harm to Privacy:** What specific privacy rights are being compromised? Is it anonymity, data security, freedom from surveillance, or something else?  How severe is the compromise?  Is it a small inconvenience or a significant erosion of personal autonomy?  Can the data be used to discriminate, manipulate, or harm individuals?\n",
       "*   **Quantify the Benefits to Society:** What specific societal benefits are being achieved? Is it saving lives, improving public health, reducing crime, or boosting economic productivity? How significant are these benefits? Who benefits the most?\n",
       "*   **Identify Alternatives:**  Are there alternative solutions that could achieve similar societal benefits with less impact on privacy?  Can the technology be modified to mitigate privacy risks?\n",
       "\n",
       "**2. Ethical Frameworks for Decision-Making:**\n",
       "\n",
       "*   **Utilitarianism:** This framework focuses on maximizing overall happiness and well-being for the greatest number of people.  A utilitarian approach would weigh the benefits of the technological advancement (in terms of societal welfare) against the harm caused by the loss of privacy.  If the benefits outweigh the harm, the utilitarian would likely support the advancement. However, it's crucial to consider the distribution of benefits and harms – are some individuals disproportionately burdened by the loss of privacy?\n",
       "*   **Deontology (Duty-Based Ethics):**  This framework emphasizes moral duties and rights.  Deontologists believe certain actions are inherently right or wrong, regardless of their consequences.  A deontological perspective might argue that privacy is a fundamental human right that should not be violated, even if doing so could lead to greater societal welfare.  However, some deontological approaches allow for exceptions to duties in exceptional circumstances.\n",
       "*   **Virtue Ethics:** This framework focuses on character and the cultivation of virtues like fairness, compassion, and wisdom.  A virtue ethicist would consider what a virtuous person would do in this situation.  They would likely emphasize the importance of transparency, honesty, and respect for individuals.\n",
       "*   **Rights-Based Approach:** This approach argues that individuals possess certain inalienable rights, including the right to privacy.  Any infringement on these rights requires a very strong justification.\n",
       "\n",
       "**3. Potential Solutions and Mitigation Strategies:**\n",
       "\n",
       "*   **Transparency and Informed Consent:**  Individuals should be fully informed about how their data will be collected, used, and protected.  They should have the right to consent to the use of their data and to withdraw their consent at any time.\n",
       "*   **Data Minimization:** Collect only the minimum amount of data necessary to achieve the desired societal benefits.  Avoid collecting data that is irrelevant or unnecessary.\n",
       "*   **Data Anonymization and Pseudonymization:**  Remove identifying information from data or replace it with pseudonyms to protect individual privacy.\n",
       "*   **Data Security:** Implement robust security measures to protect data from unauthorized access, use, or disclosure.\n",
       "*   **Purpose Limitation:**  Use data only for the specific purpose for which it was collected.  Do not use data for other purposes without obtaining consent.\n",
       "*   **Accountability and Oversight:**  Establish independent oversight mechanisms to ensure that the technology is being used ethically and responsibly.  Hold individuals and organizations accountable for violations of privacy.\n",
       "*   **Differential Privacy:** Add noise to data to protect individual privacy while still allowing for useful aggregate statistics to be derived.\n",
       "*   **Decentralization:**  Explore decentralized approaches to data storage and processing to reduce the risk of data breaches and misuse.\n",
       "*   **Public Deliberation and Engagement:**  Engage the public in a dialogue about the ethical implications of the technology and the trade-offs between privacy and societal welfare.  This can help to build consensus and ensure that the technology is being used in a way that reflects societal values.\n",
       "*   **Legal and Regulatory Frameworks:** Develop clear legal and regulatory frameworks to govern the collection, use, and protection of personal data.\n",
       "\n",
       "**4. Finding a Balance:**\n",
       "\n",
       "The key is to strive for a balance between protecting individual rights and promoting the collective good.  This requires a nuanced and context-specific approach that takes into account the specific circumstances of each case.  Here's a general framework:\n",
       "\n",
       "1.  **Prioritize Transparency:** Be upfront about the privacy implications.\n",
       "2.  **Seek Consent Whenever Possible:**  Give individuals control over their data.\n",
       "3.  **Minimize Data Collection:** Only collect what's absolutely necessary.\n",
       "4.  **Maximize Data Security:** Protect data from misuse.\n",
       "5.  **Provide Recourse:**  Establish mechanisms for individuals to challenge privacy violations.\n",
       "6.  **Regularly Re-evaluate:**  The ethical landscape changes, so regularly assess the technology's impact and adjust policies accordingly.\n",
       "\n",
       "**Example:**\n",
       "\n",
       "Imagine a technology that uses facial recognition to identify potential terrorists in public places. This could significantly improve public safety but at the cost of constant surveillance.\n",
       "\n",
       "*   **Utilitarian Approach:** Would weigh the potential lives saved against the loss of privacy for the entire population.\n",
       "*   **Deontological Approach:** Might argue that constant surveillance is a violation of fundamental rights, regardless of potential benefits.\n",
       "*   **Compromise:** Perhaps the technology could be used only in specific high-risk areas, with strict oversight and sunset clauses (temporary implementation), and with strong safeguards against misuse.\n",
       "\n",
       "**Conclusion:**\n",
       "\n",
       "Reconciling the ethical dilemma of individual rights versus the collective good is a complex and ongoing challenge. By carefully considering the trade-offs, applying ethical frameworks, and implementing appropriate mitigation strategies, we can strive to find a balance that protects both individual rights and promotes the well-being of society as a whole.  It requires ongoing dialogue, critical thinking, and a willingness to adapt as technology and societal values evolve.  The \"best\" solution is often a compromise that acknowledges the validity of both perspectives.\n"
      ],
      "text/plain": [
       "<IPython.core.display.Markdown object>"
      ]
     },
     "metadata": {},
     "output_type": "display_data"
    }
   ],
   "source": [
    "gemini = OpenAI(api_key=google_api_key, base_url=\"https://generativelanguage.googleapis.com/v1beta/openai/\")\n",
    "model_name = \"gemini-2.0-flash\"\n",
    "\n",
    "response = gemini.chat.completions.create(model=model_name, messages=messages)\n",
    "answer = response.choices[0].message.content\n",
    "\n",
    "display(Markdown(answer))\n",
    "competitors.append(model_name)\n",
    "answers.append(answer)"
   ]
  },
  {
   "cell_type": "code",
   "execution_count": null,
   "metadata": {},
   "outputs": [],
   "source": [
    "deepseek = OpenAI(api_key=deepseek_api_key, base_url=\"https://api.deepseek.com/v1\")\n",
    "model_name = \"deepseek-chat\"\n",
    "\n",
    "response = deepseek.chat.completions.create(model=model_name, messages=messages)\n",
    "answer = response.choices[0].message.content\n",
    "\n",
    "display(Markdown(answer))\n",
    "competitors.append(model_name)\n",
    "answers.append(answer)"
   ]
  },
  {
   "cell_type": "code",
   "execution_count": 16,
   "metadata": {},
   "outputs": [
    {
     "data": {
      "text/markdown": [
       "Reconciling the ethical dilemma of prioritizing individual rights over the collective good in a scenario where a technological advancement could significantly enhance societal welfare but at the cost of personal privacy requires a nuanced and multi-faceted approach. Here are some steps to consider:\n",
       "\n",
       "1. **Define the terms**: Clearly articulate the individual rights and collective good at stake. What specific aspects of personal privacy would be compromised, and how would the technological advancement benefit society?\n",
       "2. **Assess the trade-offs**: Weigh the potential benefits of the technological advancement against the potential costs to individual privacy. Consider the severity and likelihood of harm to individuals, as well as the potential long-term consequences.\n",
       "3. **Evaluate alternative solutions**: Explore alternative approaches that could achieve the desired societal benefits while minimizing the impact on individual privacy. This might involve modifying the technology, implementing safeguards, or establishing robust oversight mechanisms.\n",
       "4. **Engage in public debate and participation**: Foster an open and inclusive discussion about the potential trade-offs, involving diverse stakeholders, including experts, policymakers, and the general public. This can help ensure that the decision-making process is transparent, accountable, and responsive to societal values.\n",
       "5. **Apply ethical frameworks**: Utilize established ethical frameworks, such as the principles of beneficence (doing good), non-maleficence (doing no harm), autonomy, and justice, to guide the decision-making process.\n",
       "6. **Consider the principle of proportionality**: Ensure that the benefits of the technological advancement are proportionate to the potential risks and harms to individual privacy.\n",
       "7. **Establish robust safeguards**: Implement measures to protect individual privacy, such as data anonymization, encryption, and access controls, to mitigate the risks associated with the technological advancement.\n",
       "8. **Develop a framework for accountability**: Establish clear lines of accountability and oversight to prevent abuse of the technology and ensure that any negative consequences are addressed promptly.\n",
       "9. **Monitor and evaluate**: Continuously monitor the implementation of the technological advancement and its impact on individual privacy, making adjustments as needed to strike a balance between individual rights and the collective good.\n",
       "10. **Foster a culture of transparency and trust**: Encourage a culture of transparency, openness, and trust among stakeholders, recognizing that the success of the technological advancement depends on the willingness of individuals to participate and share their data.\n",
       "\n",
       "Ultimately, reconciling the ethical dilemma of prioritizing individual rights over the collective good requires a thoughtful, iterative, and adaptive approach that balances competing values and interests. By engaging in open dialogue, applying ethical frameworks, and establishing robust safeguards, it is possible to find a balance that promotes the collective good while respecting individual rights and privacy.\n",
       "\n",
       "**Example:**\n",
       "\n",
       "Consider a scenario where a new AI-powered surveillance system could significantly reduce crime rates in a city, but at the cost of collecting and analyzing vast amounts of personal data from citizens. To reconcile this dilemma, the city could:\n",
       "\n",
       "* Engage in public debate and participation to gauge citizens' concerns and values\n",
       "* Evaluate alternative solutions, such as implementing more targeted and limited surveillance measures\n",
       "* Establish robust safeguards, such as data anonymization and access controls, to protect individual privacy\n",
       "* Develop a framework for accountability, including regular audits and oversight by independent bodies\n",
       "* Continuously monitor the implementation of the system and its impact on individual privacy, making adjustments as needed to strike a balance between individual rights and the collective good.\n",
       "\n",
       "By following these steps, the city can work towards finding a balance that promotes public safety while respecting individual privacy and autonomy."
      ],
      "text/plain": [
       "<IPython.core.display.Markdown object>"
      ]
     },
     "metadata": {},
     "output_type": "display_data"
    }
   ],
   "source": [
    "groq = OpenAI(api_key=groq_api_key, base_url=\"https://api.groq.com/openai/v1\")\n",
    "model_name = \"llama-3.3-70b-versatile\"\n",
    "\n",
    "response = groq.chat.completions.create(model=model_name, messages=messages)\n",
    "answer = response.choices[0].message.content\n",
    "\n",
    "display(Markdown(answer))\n",
    "competitors.append(model_name)\n",
    "answers.append(answer)\n"
   ]
  },
  {
   "cell_type": "markdown",
   "metadata": {},
   "source": [
    "## For the next cell, we will use Ollama\n",
    "\n",
    "Ollama runs a local web service that gives an OpenAI compatible endpoint,  \n",
    "and runs models locally using high performance C++ code.\n",
    "\n",
    "If you don't have Ollama, install it here by visiting https://ollama.com then pressing Download and following the instructions.\n",
    "\n",
    "After it's installed, you should be able to visit here: http://localhost:11434 and see the message \"Ollama is running\"\n",
    "\n",
    "You might need to restart Cursor (and maybe reboot). Then open a Terminal (control+\\`) and run `ollama serve`\n",
    "\n",
    "Useful Ollama commands (run these in the terminal, or with an exclamation mark in this notebook):\n",
    "\n",
    "`ollama pull <model_name>` downloads a model locally  \n",
    "`ollama ls` lists all the models you've downloaded  \n",
    "`ollama rm <model_name>` deletes the specified model from your downloads"
   ]
  },
  {
   "cell_type": "markdown",
   "metadata": {},
   "source": [
    "<table style=\"margin: 0; text-align: left; width:100%\">\n",
    "    <tr>\n",
    "        <td style=\"width: 150px; height: 150px; vertical-align: middle;\">\n",
    "            <img src=\"../assets/stop.png\" width=\"150\" height=\"150\" style=\"display: block;\" />\n",
    "        </td>\n",
    "        <td>\n",
    "            <h2 style=\"color:#ff7800;\">Super important - ignore me at your peril!</h2>\n",
    "            <span style=\"color:#ff7800;\">The model called <b>llama3.3</b> is FAR too large for home computers - it's not intended for personal computing and will consume all your resources! Stick with the nicely sized <b>llama3.2</b> or <b>llama3.2:1b</b> and if you want larger, try llama3.1 or smaller variants of Qwen, Gemma, Phi or DeepSeek. See the <A href=\"https://ollama.com/models\">the Ollama models page</a> for a full list of models and sizes.\n",
    "            </span>\n",
    "        </td>\n",
    "    </tr>\n",
    "</table>"
   ]
  },
  {
   "cell_type": "code",
   "execution_count": null,
   "metadata": {},
   "outputs": [],
   "source": [
    "!ollama pull llama3.2"
   ]
  },
  {
   "cell_type": "code",
   "execution_count": null,
   "metadata": {},
   "outputs": [],
   "source": [
    "ollama = OpenAI(base_url='http://localhost:11434/v1', api_key='ollama')\n",
    "model_name = \"llama3.2\"\n",
    "\n",
    "response = ollama.chat.completions.create(model=model_name, messages=messages)\n",
    "answer = response.choices[0].message.content\n",
    "\n",
    "display(Markdown(answer))\n",
    "competitors.append(model_name)\n",
    "answers.append(answer)"
   ]
  },
  {
   "cell_type": "code",
   "execution_count": 26,
   "metadata": {},
   "outputs": [
    {
     "name": "stdout",
     "output_type": "stream",
     "text": [
      "['gpt-4o-mini', 'gemini-2.0-flash', 'llama-3.3-70b-versatile']\n",
      "['Reconciling the ethical dilemma between individual rights and the collective good in the context of a technological advancement that enhances societal welfare but encroaches on personal privacy requires a nuanced approach. Here are key considerations and steps that could help navigate this issue:\\n\\n1. **Assess the Benefits and Harms**: Start by thoroughly analyzing the potential benefits of the technology for societal welfare alongside the harms it might present to individual privacy. This includes identifying who stands to gain and who might be adversely affected.\\n\\n2. **Engage Stakeholders**: Involve diverse stakeholders in discussions about the technology, including ethicists, technologists, policymakers, and representatives from affected communities. This ensures that multiple perspectives are considered, and it raises awareness of the potential implications.\\n\\n3. **Informed Consent**: Consider establishing frameworks where individuals have a say in the use of their data. This can include informed consent processes that allow people to understand what data is being collected, how it will be used, and the implications for their privacy.\\n\\n4. **Transparency and Accountability**: Emphasize transparency about how the technology works and the data it collects. Establish accountability mechanisms to ensure that the use of technology aligns with ethical standards and that there are consequences for misuse.\\n\\n5. **Least Intrusive Means**: Explore options for achieving societal welfare that minimize impacts on individual privacy. This could involve anonymizing data or using aggregated data so that individual identities are not directly exposed.\\n\\n6. **Create Ethical Guidelines**: Develop ethical guidelines or frameworks that govern the deployment of such technologies, ensuring that individual rights are protected while also allowing for societal benefits. This may involve formulating principles that advocate for balancing competing interests.\\n\\n7. **Regular Review and Adaptation**: As technology evolves, continuously review the ethical implications and societal impacts. Create structures for ongoing assessment, allowing for adaptations based on new insights or societal changes.\\n\\n8. **Public Dialogue and Education**: Foster a culture of open public dialogue about privacy and welfare issues, enhancing public understanding and enabling informed public opinion to shape technology use.\\n\\n9. **Legislative Frameworks**: Advocate for legislative measures that protect individual rights and privacy, even when societal benefits are at stake. Policies should be designed to prevent abuses and protect vulnerable populations.\\n\\n10. **Promote Alternatives**: Encourage research into alternative solutions that achieve societal goals without infringing on individual rights, thus advancing society without sacrificing essential privacy protections.\\n\\nBy carefully weighing the importance of individual rights and the potential for collective good, societies can strive for a balanced approach that maximizes welfare while safeguarding personal freedoms. This balance is not static; it requires ongoing dialogue and reflection to adapt to new developments and societal values.', 'This is a classic ethical dilemma, pitting individual rights (specifically privacy) against the collective good (societal welfare). There\\'s no easy answer, and the best approach depends heavily on the specifics of the technology, the context, and the values prioritized. Here\\'s a breakdown of how to reconcile this dilemma, focusing on different perspectives and potential solutions:\\n\\n**1. Understanding the Trade-offs:**\\n\\n*   **Quantify the Harm to Privacy:** What specific privacy rights are being compromised? Is it anonymity, data security, freedom from surveillance, or something else?  How severe is the compromise?  Is it a small inconvenience or a significant erosion of personal autonomy?  Can the data be used to discriminate, manipulate, or harm individuals?\\n*   **Quantify the Benefits to Society:** What specific societal benefits are being achieved? Is it saving lives, improving public health, reducing crime, or boosting economic productivity? How significant are these benefits? Who benefits the most?\\n*   **Identify Alternatives:**  Are there alternative solutions that could achieve similar societal benefits with less impact on privacy?  Can the technology be modified to mitigate privacy risks?\\n\\n**2. Ethical Frameworks for Decision-Making:**\\n\\n*   **Utilitarianism:** This framework focuses on maximizing overall happiness and well-being for the greatest number of people.  A utilitarian approach would weigh the benefits of the technological advancement (in terms of societal welfare) against the harm caused by the loss of privacy.  If the benefits outweigh the harm, the utilitarian would likely support the advancement. However, it\\'s crucial to consider the distribution of benefits and harms – are some individuals disproportionately burdened by the loss of privacy?\\n*   **Deontology (Duty-Based Ethics):**  This framework emphasizes moral duties and rights.  Deontologists believe certain actions are inherently right or wrong, regardless of their consequences.  A deontological perspective might argue that privacy is a fundamental human right that should not be violated, even if doing so could lead to greater societal welfare.  However, some deontological approaches allow for exceptions to duties in exceptional circumstances.\\n*   **Virtue Ethics:** This framework focuses on character and the cultivation of virtues like fairness, compassion, and wisdom.  A virtue ethicist would consider what a virtuous person would do in this situation.  They would likely emphasize the importance of transparency, honesty, and respect for individuals.\\n*   **Rights-Based Approach:** This approach argues that individuals possess certain inalienable rights, including the right to privacy.  Any infringement on these rights requires a very strong justification.\\n\\n**3. Potential Solutions and Mitigation Strategies:**\\n\\n*   **Transparency and Informed Consent:**  Individuals should be fully informed about how their data will be collected, used, and protected.  They should have the right to consent to the use of their data and to withdraw their consent at any time.\\n*   **Data Minimization:** Collect only the minimum amount of data necessary to achieve the desired societal benefits.  Avoid collecting data that is irrelevant or unnecessary.\\n*   **Data Anonymization and Pseudonymization:**  Remove identifying information from data or replace it with pseudonyms to protect individual privacy.\\n*   **Data Security:** Implement robust security measures to protect data from unauthorized access, use, or disclosure.\\n*   **Purpose Limitation:**  Use data only for the specific purpose for which it was collected.  Do not use data for other purposes without obtaining consent.\\n*   **Accountability and Oversight:**  Establish independent oversight mechanisms to ensure that the technology is being used ethically and responsibly.  Hold individuals and organizations accountable for violations of privacy.\\n*   **Differential Privacy:** Add noise to data to protect individual privacy while still allowing for useful aggregate statistics to be derived.\\n*   **Decentralization:**  Explore decentralized approaches to data storage and processing to reduce the risk of data breaches and misuse.\\n*   **Public Deliberation and Engagement:**  Engage the public in a dialogue about the ethical implications of the technology and the trade-offs between privacy and societal welfare.  This can help to build consensus and ensure that the technology is being used in a way that reflects societal values.\\n*   **Legal and Regulatory Frameworks:** Develop clear legal and regulatory frameworks to govern the collection, use, and protection of personal data.\\n\\n**4. Finding a Balance:**\\n\\nThe key is to strive for a balance between protecting individual rights and promoting the collective good.  This requires a nuanced and context-specific approach that takes into account the specific circumstances of each case.  Here\\'s a general framework:\\n\\n1.  **Prioritize Transparency:** Be upfront about the privacy implications.\\n2.  **Seek Consent Whenever Possible:**  Give individuals control over their data.\\n3.  **Minimize Data Collection:** Only collect what\\'s absolutely necessary.\\n4.  **Maximize Data Security:** Protect data from misuse.\\n5.  **Provide Recourse:**  Establish mechanisms for individuals to challenge privacy violations.\\n6.  **Regularly Re-evaluate:**  The ethical landscape changes, so regularly assess the technology\\'s impact and adjust policies accordingly.\\n\\n**Example:**\\n\\nImagine a technology that uses facial recognition to identify potential terrorists in public places. This could significantly improve public safety but at the cost of constant surveillance.\\n\\n*   **Utilitarian Approach:** Would weigh the potential lives saved against the loss of privacy for the entire population.\\n*   **Deontological Approach:** Might argue that constant surveillance is a violation of fundamental rights, regardless of potential benefits.\\n*   **Compromise:** Perhaps the technology could be used only in specific high-risk areas, with strict oversight and sunset clauses (temporary implementation), and with strong safeguards against misuse.\\n\\n**Conclusion:**\\n\\nReconciling the ethical dilemma of individual rights versus the collective good is a complex and ongoing challenge. By carefully considering the trade-offs, applying ethical frameworks, and implementing appropriate mitigation strategies, we can strive to find a balance that protects both individual rights and promotes the well-being of society as a whole.  It requires ongoing dialogue, critical thinking, and a willingness to adapt as technology and societal values evolve.  The \"best\" solution is often a compromise that acknowledges the validity of both perspectives.\\n', \"Reconciling the ethical dilemma of prioritizing individual rights over the collective good in a scenario where a technological advancement could significantly enhance societal welfare but at the cost of personal privacy requires a nuanced and multi-faceted approach. Here are some steps to consider:\\n\\n1. **Define the terms**: Clearly articulate the individual rights and collective good at stake. What specific aspects of personal privacy would be compromised, and how would the technological advancement benefit society?\\n2. **Assess the trade-offs**: Weigh the potential benefits of the technological advancement against the potential costs to individual privacy. Consider the severity and likelihood of harm to individuals, as well as the potential long-term consequences.\\n3. **Evaluate alternative solutions**: Explore alternative approaches that could achieve the desired societal benefits while minimizing the impact on individual privacy. This might involve modifying the technology, implementing safeguards, or establishing robust oversight mechanisms.\\n4. **Engage in public debate and participation**: Foster an open and inclusive discussion about the potential trade-offs, involving diverse stakeholders, including experts, policymakers, and the general public. This can help ensure that the decision-making process is transparent, accountable, and responsive to societal values.\\n5. **Apply ethical frameworks**: Utilize established ethical frameworks, such as the principles of beneficence (doing good), non-maleficence (doing no harm), autonomy, and justice, to guide the decision-making process.\\n6. **Consider the principle of proportionality**: Ensure that the benefits of the technological advancement are proportionate to the potential risks and harms to individual privacy.\\n7. **Establish robust safeguards**: Implement measures to protect individual privacy, such as data anonymization, encryption, and access controls, to mitigate the risks associated with the technological advancement.\\n8. **Develop a framework for accountability**: Establish clear lines of accountability and oversight to prevent abuse of the technology and ensure that any negative consequences are addressed promptly.\\n9. **Monitor and evaluate**: Continuously monitor the implementation of the technological advancement and its impact on individual privacy, making adjustments as needed to strike a balance between individual rights and the collective good.\\n10. **Foster a culture of transparency and trust**: Encourage a culture of transparency, openness, and trust among stakeholders, recognizing that the success of the technological advancement depends on the willingness of individuals to participate and share their data.\\n\\nUltimately, reconciling the ethical dilemma of prioritizing individual rights over the collective good requires a thoughtful, iterative, and adaptive approach that balances competing values and interests. By engaging in open dialogue, applying ethical frameworks, and establishing robust safeguards, it is possible to find a balance that promotes the collective good while respecting individual rights and privacy.\\n\\n**Example:**\\n\\nConsider a scenario where a new AI-powered surveillance system could significantly reduce crime rates in a city, but at the cost of collecting and analyzing vast amounts of personal data from citizens. To reconcile this dilemma, the city could:\\n\\n* Engage in public debate and participation to gauge citizens' concerns and values\\n* Evaluate alternative solutions, such as implementing more targeted and limited surveillance measures\\n* Establish robust safeguards, such as data anonymization and access controls, to protect individual privacy\\n* Develop a framework for accountability, including regular audits and oversight by independent bodies\\n* Continuously monitor the implementation of the system and its impact on individual privacy, making adjustments as needed to strike a balance between individual rights and the collective good.\\n\\nBy following these steps, the city can work towards finding a balance that promotes public safety while respecting individual privacy and autonomy.\"]\n"
     ]
    }
   ],
   "source": [
    "# So where are we?\n",
    "\n",
    "print(competitors)\n",
    "print(answers)\n"
   ]
  },
  {
   "cell_type": "code",
   "execution_count": 27,
   "metadata": {},
   "outputs": [
    {
     "name": "stdout",
     "output_type": "stream",
     "text": [
      "Competitor: gpt-4o-mini\n",
      "\n",
      "Reconciling the ethical dilemma between individual rights and the collective good in the context of a technological advancement that enhances societal welfare but encroaches on personal privacy requires a nuanced approach. Here are key considerations and steps that could help navigate this issue:\n",
      "\n",
      "1. **Assess the Benefits and Harms**: Start by thoroughly analyzing the potential benefits of the technology for societal welfare alongside the harms it might present to individual privacy. This includes identifying who stands to gain and who might be adversely affected.\n",
      "\n",
      "2. **Engage Stakeholders**: Involve diverse stakeholders in discussions about the technology, including ethicists, technologists, policymakers, and representatives from affected communities. This ensures that multiple perspectives are considered, and it raises awareness of the potential implications.\n",
      "\n",
      "3. **Informed Consent**: Consider establishing frameworks where individuals have a say in the use of their data. This can include informed consent processes that allow people to understand what data is being collected, how it will be used, and the implications for their privacy.\n",
      "\n",
      "4. **Transparency and Accountability**: Emphasize transparency about how the technology works and the data it collects. Establish accountability mechanisms to ensure that the use of technology aligns with ethical standards and that there are consequences for misuse.\n",
      "\n",
      "5. **Least Intrusive Means**: Explore options for achieving societal welfare that minimize impacts on individual privacy. This could involve anonymizing data or using aggregated data so that individual identities are not directly exposed.\n",
      "\n",
      "6. **Create Ethical Guidelines**: Develop ethical guidelines or frameworks that govern the deployment of such technologies, ensuring that individual rights are protected while also allowing for societal benefits. This may involve formulating principles that advocate for balancing competing interests.\n",
      "\n",
      "7. **Regular Review and Adaptation**: As technology evolves, continuously review the ethical implications and societal impacts. Create structures for ongoing assessment, allowing for adaptations based on new insights or societal changes.\n",
      "\n",
      "8. **Public Dialogue and Education**: Foster a culture of open public dialogue about privacy and welfare issues, enhancing public understanding and enabling informed public opinion to shape technology use.\n",
      "\n",
      "9. **Legislative Frameworks**: Advocate for legislative measures that protect individual rights and privacy, even when societal benefits are at stake. Policies should be designed to prevent abuses and protect vulnerable populations.\n",
      "\n",
      "10. **Promote Alternatives**: Encourage research into alternative solutions that achieve societal goals without infringing on individual rights, thus advancing society without sacrificing essential privacy protections.\n",
      "\n",
      "By carefully weighing the importance of individual rights and the potential for collective good, societies can strive for a balanced approach that maximizes welfare while safeguarding personal freedoms. This balance is not static; it requires ongoing dialogue and reflection to adapt to new developments and societal values.\n",
      "Competitor: gemini-2.0-flash\n",
      "\n",
      "This is a classic ethical dilemma, pitting individual rights (specifically privacy) against the collective good (societal welfare). There's no easy answer, and the best approach depends heavily on the specifics of the technology, the context, and the values prioritized. Here's a breakdown of how to reconcile this dilemma, focusing on different perspectives and potential solutions:\n",
      "\n",
      "**1. Understanding the Trade-offs:**\n",
      "\n",
      "*   **Quantify the Harm to Privacy:** What specific privacy rights are being compromised? Is it anonymity, data security, freedom from surveillance, or something else?  How severe is the compromise?  Is it a small inconvenience or a significant erosion of personal autonomy?  Can the data be used to discriminate, manipulate, or harm individuals?\n",
      "*   **Quantify the Benefits to Society:** What specific societal benefits are being achieved? Is it saving lives, improving public health, reducing crime, or boosting economic productivity? How significant are these benefits? Who benefits the most?\n",
      "*   **Identify Alternatives:**  Are there alternative solutions that could achieve similar societal benefits with less impact on privacy?  Can the technology be modified to mitigate privacy risks?\n",
      "\n",
      "**2. Ethical Frameworks for Decision-Making:**\n",
      "\n",
      "*   **Utilitarianism:** This framework focuses on maximizing overall happiness and well-being for the greatest number of people.  A utilitarian approach would weigh the benefits of the technological advancement (in terms of societal welfare) against the harm caused by the loss of privacy.  If the benefits outweigh the harm, the utilitarian would likely support the advancement. However, it's crucial to consider the distribution of benefits and harms – are some individuals disproportionately burdened by the loss of privacy?\n",
      "*   **Deontology (Duty-Based Ethics):**  This framework emphasizes moral duties and rights.  Deontologists believe certain actions are inherently right or wrong, regardless of their consequences.  A deontological perspective might argue that privacy is a fundamental human right that should not be violated, even if doing so could lead to greater societal welfare.  However, some deontological approaches allow for exceptions to duties in exceptional circumstances.\n",
      "*   **Virtue Ethics:** This framework focuses on character and the cultivation of virtues like fairness, compassion, and wisdom.  A virtue ethicist would consider what a virtuous person would do in this situation.  They would likely emphasize the importance of transparency, honesty, and respect for individuals.\n",
      "*   **Rights-Based Approach:** This approach argues that individuals possess certain inalienable rights, including the right to privacy.  Any infringement on these rights requires a very strong justification.\n",
      "\n",
      "**3. Potential Solutions and Mitigation Strategies:**\n",
      "\n",
      "*   **Transparency and Informed Consent:**  Individuals should be fully informed about how their data will be collected, used, and protected.  They should have the right to consent to the use of their data and to withdraw their consent at any time.\n",
      "*   **Data Minimization:** Collect only the minimum amount of data necessary to achieve the desired societal benefits.  Avoid collecting data that is irrelevant or unnecessary.\n",
      "*   **Data Anonymization and Pseudonymization:**  Remove identifying information from data or replace it with pseudonyms to protect individual privacy.\n",
      "*   **Data Security:** Implement robust security measures to protect data from unauthorized access, use, or disclosure.\n",
      "*   **Purpose Limitation:**  Use data only for the specific purpose for which it was collected.  Do not use data for other purposes without obtaining consent.\n",
      "*   **Accountability and Oversight:**  Establish independent oversight mechanisms to ensure that the technology is being used ethically and responsibly.  Hold individuals and organizations accountable for violations of privacy.\n",
      "*   **Differential Privacy:** Add noise to data to protect individual privacy while still allowing for useful aggregate statistics to be derived.\n",
      "*   **Decentralization:**  Explore decentralized approaches to data storage and processing to reduce the risk of data breaches and misuse.\n",
      "*   **Public Deliberation and Engagement:**  Engage the public in a dialogue about the ethical implications of the technology and the trade-offs between privacy and societal welfare.  This can help to build consensus and ensure that the technology is being used in a way that reflects societal values.\n",
      "*   **Legal and Regulatory Frameworks:** Develop clear legal and regulatory frameworks to govern the collection, use, and protection of personal data.\n",
      "\n",
      "**4. Finding a Balance:**\n",
      "\n",
      "The key is to strive for a balance between protecting individual rights and promoting the collective good.  This requires a nuanced and context-specific approach that takes into account the specific circumstances of each case.  Here's a general framework:\n",
      "\n",
      "1.  **Prioritize Transparency:** Be upfront about the privacy implications.\n",
      "2.  **Seek Consent Whenever Possible:**  Give individuals control over their data.\n",
      "3.  **Minimize Data Collection:** Only collect what's absolutely necessary.\n",
      "4.  **Maximize Data Security:** Protect data from misuse.\n",
      "5.  **Provide Recourse:**  Establish mechanisms for individuals to challenge privacy violations.\n",
      "6.  **Regularly Re-evaluate:**  The ethical landscape changes, so regularly assess the technology's impact and adjust policies accordingly.\n",
      "\n",
      "**Example:**\n",
      "\n",
      "Imagine a technology that uses facial recognition to identify potential terrorists in public places. This could significantly improve public safety but at the cost of constant surveillance.\n",
      "\n",
      "*   **Utilitarian Approach:** Would weigh the potential lives saved against the loss of privacy for the entire population.\n",
      "*   **Deontological Approach:** Might argue that constant surveillance is a violation of fundamental rights, regardless of potential benefits.\n",
      "*   **Compromise:** Perhaps the technology could be used only in specific high-risk areas, with strict oversight and sunset clauses (temporary implementation), and with strong safeguards against misuse.\n",
      "\n",
      "**Conclusion:**\n",
      "\n",
      "Reconciling the ethical dilemma of individual rights versus the collective good is a complex and ongoing challenge. By carefully considering the trade-offs, applying ethical frameworks, and implementing appropriate mitigation strategies, we can strive to find a balance that protects both individual rights and promotes the well-being of society as a whole.  It requires ongoing dialogue, critical thinking, and a willingness to adapt as technology and societal values evolve.  The \"best\" solution is often a compromise that acknowledges the validity of both perspectives.\n",
      "\n",
      "Competitor: llama-3.3-70b-versatile\n",
      "\n",
      "Reconciling the ethical dilemma of prioritizing individual rights over the collective good in a scenario where a technological advancement could significantly enhance societal welfare but at the cost of personal privacy requires a nuanced and multi-faceted approach. Here are some steps to consider:\n",
      "\n",
      "1. **Define the terms**: Clearly articulate the individual rights and collective good at stake. What specific aspects of personal privacy would be compromised, and how would the technological advancement benefit society?\n",
      "2. **Assess the trade-offs**: Weigh the potential benefits of the technological advancement against the potential costs to individual privacy. Consider the severity and likelihood of harm to individuals, as well as the potential long-term consequences.\n",
      "3. **Evaluate alternative solutions**: Explore alternative approaches that could achieve the desired societal benefits while minimizing the impact on individual privacy. This might involve modifying the technology, implementing safeguards, or establishing robust oversight mechanisms.\n",
      "4. **Engage in public debate and participation**: Foster an open and inclusive discussion about the potential trade-offs, involving diverse stakeholders, including experts, policymakers, and the general public. This can help ensure that the decision-making process is transparent, accountable, and responsive to societal values.\n",
      "5. **Apply ethical frameworks**: Utilize established ethical frameworks, such as the principles of beneficence (doing good), non-maleficence (doing no harm), autonomy, and justice, to guide the decision-making process.\n",
      "6. **Consider the principle of proportionality**: Ensure that the benefits of the technological advancement are proportionate to the potential risks and harms to individual privacy.\n",
      "7. **Establish robust safeguards**: Implement measures to protect individual privacy, such as data anonymization, encryption, and access controls, to mitigate the risks associated with the technological advancement.\n",
      "8. **Develop a framework for accountability**: Establish clear lines of accountability and oversight to prevent abuse of the technology and ensure that any negative consequences are addressed promptly.\n",
      "9. **Monitor and evaluate**: Continuously monitor the implementation of the technological advancement and its impact on individual privacy, making adjustments as needed to strike a balance between individual rights and the collective good.\n",
      "10. **Foster a culture of transparency and trust**: Encourage a culture of transparency, openness, and trust among stakeholders, recognizing that the success of the technological advancement depends on the willingness of individuals to participate and share their data.\n",
      "\n",
      "Ultimately, reconciling the ethical dilemma of prioritizing individual rights over the collective good requires a thoughtful, iterative, and adaptive approach that balances competing values and interests. By engaging in open dialogue, applying ethical frameworks, and establishing robust safeguards, it is possible to find a balance that promotes the collective good while respecting individual rights and privacy.\n",
      "\n",
      "**Example:**\n",
      "\n",
      "Consider a scenario where a new AI-powered surveillance system could significantly reduce crime rates in a city, but at the cost of collecting and analyzing vast amounts of personal data from citizens. To reconcile this dilemma, the city could:\n",
      "\n",
      "* Engage in public debate and participation to gauge citizens' concerns and values\n",
      "* Evaluate alternative solutions, such as implementing more targeted and limited surveillance measures\n",
      "* Establish robust safeguards, such as data anonymization and access controls, to protect individual privacy\n",
      "* Develop a framework for accountability, including regular audits and oversight by independent bodies\n",
      "* Continuously monitor the implementation of the system and its impact on individual privacy, making adjustments as needed to strike a balance between individual rights and the collective good.\n",
      "\n",
      "By following these steps, the city can work towards finding a balance that promotes public safety while respecting individual privacy and autonomy.\n"
     ]
    }
   ],
   "source": [
    "# It's nice to know how to use \"zip\"\n",
    "for competitor, answer in zip(competitors, answers):\n",
    "    print(f\"Competitor: {competitor}\\n\\n{answer}\")\n"
   ]
  },
  {
   "cell_type": "code",
   "execution_count": 28,
   "metadata": {},
   "outputs": [],
   "source": [
    "# Let's bring this together - note the use of \"enumerate\"\n",
    "\n",
    "together = \"\"\n",
    "for index, answer in enumerate(answers):\n",
    "    together += f\"# Response from competitor {index+1}\\n\\n\"\n",
    "    together += answer + \"\\n\\n\""
   ]
  },
  {
   "cell_type": "code",
   "execution_count": 29,
   "metadata": {},
   "outputs": [
    {
     "name": "stdout",
     "output_type": "stream",
     "text": [
      "# Response from competitor 1\n",
      "\n",
      "Reconciling the ethical dilemma between individual rights and the collective good in the context of a technological advancement that enhances societal welfare but encroaches on personal privacy requires a nuanced approach. Here are key considerations and steps that could help navigate this issue:\n",
      "\n",
      "1. **Assess the Benefits and Harms**: Start by thoroughly analyzing the potential benefits of the technology for societal welfare alongside the harms it might present to individual privacy. This includes identifying who stands to gain and who might be adversely affected.\n",
      "\n",
      "2. **Engage Stakeholders**: Involve diverse stakeholders in discussions about the technology, including ethicists, technologists, policymakers, and representatives from affected communities. This ensures that multiple perspectives are considered, and it raises awareness of the potential implications.\n",
      "\n",
      "3. **Informed Consent**: Consider establishing frameworks where individuals have a say in the use of their data. This can include informed consent processes that allow people to understand what data is being collected, how it will be used, and the implications for their privacy.\n",
      "\n",
      "4. **Transparency and Accountability**: Emphasize transparency about how the technology works and the data it collects. Establish accountability mechanisms to ensure that the use of technology aligns with ethical standards and that there are consequences for misuse.\n",
      "\n",
      "5. **Least Intrusive Means**: Explore options for achieving societal welfare that minimize impacts on individual privacy. This could involve anonymizing data or using aggregated data so that individual identities are not directly exposed.\n",
      "\n",
      "6. **Create Ethical Guidelines**: Develop ethical guidelines or frameworks that govern the deployment of such technologies, ensuring that individual rights are protected while also allowing for societal benefits. This may involve formulating principles that advocate for balancing competing interests.\n",
      "\n",
      "7. **Regular Review and Adaptation**: As technology evolves, continuously review the ethical implications and societal impacts. Create structures for ongoing assessment, allowing for adaptations based on new insights or societal changes.\n",
      "\n",
      "8. **Public Dialogue and Education**: Foster a culture of open public dialogue about privacy and welfare issues, enhancing public understanding and enabling informed public opinion to shape technology use.\n",
      "\n",
      "9. **Legislative Frameworks**: Advocate for legislative measures that protect individual rights and privacy, even when societal benefits are at stake. Policies should be designed to prevent abuses and protect vulnerable populations.\n",
      "\n",
      "10. **Promote Alternatives**: Encourage research into alternative solutions that achieve societal goals without infringing on individual rights, thus advancing society without sacrificing essential privacy protections.\n",
      "\n",
      "By carefully weighing the importance of individual rights and the potential for collective good, societies can strive for a balanced approach that maximizes welfare while safeguarding personal freedoms. This balance is not static; it requires ongoing dialogue and reflection to adapt to new developments and societal values.\n",
      "\n",
      "# Response from competitor 2\n",
      "\n",
      "This is a classic ethical dilemma, pitting individual rights (specifically privacy) against the collective good (societal welfare). There's no easy answer, and the best approach depends heavily on the specifics of the technology, the context, and the values prioritized. Here's a breakdown of how to reconcile this dilemma, focusing on different perspectives and potential solutions:\n",
      "\n",
      "**1. Understanding the Trade-offs:**\n",
      "\n",
      "*   **Quantify the Harm to Privacy:** What specific privacy rights are being compromised? Is it anonymity, data security, freedom from surveillance, or something else?  How severe is the compromise?  Is it a small inconvenience or a significant erosion of personal autonomy?  Can the data be used to discriminate, manipulate, or harm individuals?\n",
      "*   **Quantify the Benefits to Society:** What specific societal benefits are being achieved? Is it saving lives, improving public health, reducing crime, or boosting economic productivity? How significant are these benefits? Who benefits the most?\n",
      "*   **Identify Alternatives:**  Are there alternative solutions that could achieve similar societal benefits with less impact on privacy?  Can the technology be modified to mitigate privacy risks?\n",
      "\n",
      "**2. Ethical Frameworks for Decision-Making:**\n",
      "\n",
      "*   **Utilitarianism:** This framework focuses on maximizing overall happiness and well-being for the greatest number of people.  A utilitarian approach would weigh the benefits of the technological advancement (in terms of societal welfare) against the harm caused by the loss of privacy.  If the benefits outweigh the harm, the utilitarian would likely support the advancement. However, it's crucial to consider the distribution of benefits and harms – are some individuals disproportionately burdened by the loss of privacy?\n",
      "*   **Deontology (Duty-Based Ethics):**  This framework emphasizes moral duties and rights.  Deontologists believe certain actions are inherently right or wrong, regardless of their consequences.  A deontological perspective might argue that privacy is a fundamental human right that should not be violated, even if doing so could lead to greater societal welfare.  However, some deontological approaches allow for exceptions to duties in exceptional circumstances.\n",
      "*   **Virtue Ethics:** This framework focuses on character and the cultivation of virtues like fairness, compassion, and wisdom.  A virtue ethicist would consider what a virtuous person would do in this situation.  They would likely emphasize the importance of transparency, honesty, and respect for individuals.\n",
      "*   **Rights-Based Approach:** This approach argues that individuals possess certain inalienable rights, including the right to privacy.  Any infringement on these rights requires a very strong justification.\n",
      "\n",
      "**3. Potential Solutions and Mitigation Strategies:**\n",
      "\n",
      "*   **Transparency and Informed Consent:**  Individuals should be fully informed about how their data will be collected, used, and protected.  They should have the right to consent to the use of their data and to withdraw their consent at any time.\n",
      "*   **Data Minimization:** Collect only the minimum amount of data necessary to achieve the desired societal benefits.  Avoid collecting data that is irrelevant or unnecessary.\n",
      "*   **Data Anonymization and Pseudonymization:**  Remove identifying information from data or replace it with pseudonyms to protect individual privacy.\n",
      "*   **Data Security:** Implement robust security measures to protect data from unauthorized access, use, or disclosure.\n",
      "*   **Purpose Limitation:**  Use data only for the specific purpose for which it was collected.  Do not use data for other purposes without obtaining consent.\n",
      "*   **Accountability and Oversight:**  Establish independent oversight mechanisms to ensure that the technology is being used ethically and responsibly.  Hold individuals and organizations accountable for violations of privacy.\n",
      "*   **Differential Privacy:** Add noise to data to protect individual privacy while still allowing for useful aggregate statistics to be derived.\n",
      "*   **Decentralization:**  Explore decentralized approaches to data storage and processing to reduce the risk of data breaches and misuse.\n",
      "*   **Public Deliberation and Engagement:**  Engage the public in a dialogue about the ethical implications of the technology and the trade-offs between privacy and societal welfare.  This can help to build consensus and ensure that the technology is being used in a way that reflects societal values.\n",
      "*   **Legal and Regulatory Frameworks:** Develop clear legal and regulatory frameworks to govern the collection, use, and protection of personal data.\n",
      "\n",
      "**4. Finding a Balance:**\n",
      "\n",
      "The key is to strive for a balance between protecting individual rights and promoting the collective good.  This requires a nuanced and context-specific approach that takes into account the specific circumstances of each case.  Here's a general framework:\n",
      "\n",
      "1.  **Prioritize Transparency:** Be upfront about the privacy implications.\n",
      "2.  **Seek Consent Whenever Possible:**  Give individuals control over their data.\n",
      "3.  **Minimize Data Collection:** Only collect what's absolutely necessary.\n",
      "4.  **Maximize Data Security:** Protect data from misuse.\n",
      "5.  **Provide Recourse:**  Establish mechanisms for individuals to challenge privacy violations.\n",
      "6.  **Regularly Re-evaluate:**  The ethical landscape changes, so regularly assess the technology's impact and adjust policies accordingly.\n",
      "\n",
      "**Example:**\n",
      "\n",
      "Imagine a technology that uses facial recognition to identify potential terrorists in public places. This could significantly improve public safety but at the cost of constant surveillance.\n",
      "\n",
      "*   **Utilitarian Approach:** Would weigh the potential lives saved against the loss of privacy for the entire population.\n",
      "*   **Deontological Approach:** Might argue that constant surveillance is a violation of fundamental rights, regardless of potential benefits.\n",
      "*   **Compromise:** Perhaps the technology could be used only in specific high-risk areas, with strict oversight and sunset clauses (temporary implementation), and with strong safeguards against misuse.\n",
      "\n",
      "**Conclusion:**\n",
      "\n",
      "Reconciling the ethical dilemma of individual rights versus the collective good is a complex and ongoing challenge. By carefully considering the trade-offs, applying ethical frameworks, and implementing appropriate mitigation strategies, we can strive to find a balance that protects both individual rights and promotes the well-being of society as a whole.  It requires ongoing dialogue, critical thinking, and a willingness to adapt as technology and societal values evolve.  The \"best\" solution is often a compromise that acknowledges the validity of both perspectives.\n",
      "\n",
      "\n",
      "# Response from competitor 3\n",
      "\n",
      "Reconciling the ethical dilemma of prioritizing individual rights over the collective good in a scenario where a technological advancement could significantly enhance societal welfare but at the cost of personal privacy requires a nuanced and multi-faceted approach. Here are some steps to consider:\n",
      "\n",
      "1. **Define the terms**: Clearly articulate the individual rights and collective good at stake. What specific aspects of personal privacy would be compromised, and how would the technological advancement benefit society?\n",
      "2. **Assess the trade-offs**: Weigh the potential benefits of the technological advancement against the potential costs to individual privacy. Consider the severity and likelihood of harm to individuals, as well as the potential long-term consequences.\n",
      "3. **Evaluate alternative solutions**: Explore alternative approaches that could achieve the desired societal benefits while minimizing the impact on individual privacy. This might involve modifying the technology, implementing safeguards, or establishing robust oversight mechanisms.\n",
      "4. **Engage in public debate and participation**: Foster an open and inclusive discussion about the potential trade-offs, involving diverse stakeholders, including experts, policymakers, and the general public. This can help ensure that the decision-making process is transparent, accountable, and responsive to societal values.\n",
      "5. **Apply ethical frameworks**: Utilize established ethical frameworks, such as the principles of beneficence (doing good), non-maleficence (doing no harm), autonomy, and justice, to guide the decision-making process.\n",
      "6. **Consider the principle of proportionality**: Ensure that the benefits of the technological advancement are proportionate to the potential risks and harms to individual privacy.\n",
      "7. **Establish robust safeguards**: Implement measures to protect individual privacy, such as data anonymization, encryption, and access controls, to mitigate the risks associated with the technological advancement.\n",
      "8. **Develop a framework for accountability**: Establish clear lines of accountability and oversight to prevent abuse of the technology and ensure that any negative consequences are addressed promptly.\n",
      "9. **Monitor and evaluate**: Continuously monitor the implementation of the technological advancement and its impact on individual privacy, making adjustments as needed to strike a balance between individual rights and the collective good.\n",
      "10. **Foster a culture of transparency and trust**: Encourage a culture of transparency, openness, and trust among stakeholders, recognizing that the success of the technological advancement depends on the willingness of individuals to participate and share their data.\n",
      "\n",
      "Ultimately, reconciling the ethical dilemma of prioritizing individual rights over the collective good requires a thoughtful, iterative, and adaptive approach that balances competing values and interests. By engaging in open dialogue, applying ethical frameworks, and establishing robust safeguards, it is possible to find a balance that promotes the collective good while respecting individual rights and privacy.\n",
      "\n",
      "**Example:**\n",
      "\n",
      "Consider a scenario where a new AI-powered surveillance system could significantly reduce crime rates in a city, but at the cost of collecting and analyzing vast amounts of personal data from citizens. To reconcile this dilemma, the city could:\n",
      "\n",
      "* Engage in public debate and participation to gauge citizens' concerns and values\n",
      "* Evaluate alternative solutions, such as implementing more targeted and limited surveillance measures\n",
      "* Establish robust safeguards, such as data anonymization and access controls, to protect individual privacy\n",
      "* Develop a framework for accountability, including regular audits and oversight by independent bodies\n",
      "* Continuously monitor the implementation of the system and its impact on individual privacy, making adjustments as needed to strike a balance between individual rights and the collective good.\n",
      "\n",
      "By following these steps, the city can work towards finding a balance that promotes public safety while respecting individual privacy and autonomy.\n",
      "\n",
      "\n"
     ]
    }
   ],
   "source": [
    "print(together)"
   ]
  },
  {
   "cell_type": "code",
   "execution_count": 30,
   "metadata": {},
   "outputs": [],
   "source": [
    "judge = f\"\"\"You are judging a competition between {len(competitors)} competitors.\n",
    "Each model has been given this question:\n",
    "\n",
    "{question}\n",
    "\n",
    "Your job is to evaluate each response for clarity and strength of argument, and rank them in order of best to worst.\n",
    "Respond with JSON, and only JSON, with the following format:\n",
    "{{\"results\": [\"best competitor number\", \"second best competitor number\", \"third best competitor number\", ...]}}\n",
    "\n",
    "Here are the responses from each competitor:\n",
    "\n",
    "{together}\n",
    "\n",
    "Now respond with the JSON with the ranked order of the competitors, nothing else. Do not include markdown formatting or code blocks.\"\"\"\n"
   ]
  },
  {
   "cell_type": "code",
   "execution_count": 31,
   "metadata": {},
   "outputs": [
    {
     "name": "stdout",
     "output_type": "stream",
     "text": [
      "You are judging a competition between 3 competitors.\n",
      "Each model has been given this question:\n",
      "\n",
      "How would you reconcile the ethical dilemma of prioritizing individual rights over the collective good in a scenario where a technological advancement could significantly enhance societal welfare but at the cost of personal privacy?\n",
      "\n",
      "Your job is to evaluate each response for clarity and strength of argument, and rank them in order of best to worst.\n",
      "Respond with JSON, and only JSON, with the following format:\n",
      "{\"results\": [\"best competitor number\", \"second best competitor number\", \"third best competitor number\", ...]}\n",
      "\n",
      "Here are the responses from each competitor:\n",
      "\n",
      "# Response from competitor 1\n",
      "\n",
      "Reconciling the ethical dilemma between individual rights and the collective good in the context of a technological advancement that enhances societal welfare but encroaches on personal privacy requires a nuanced approach. Here are key considerations and steps that could help navigate this issue:\n",
      "\n",
      "1. **Assess the Benefits and Harms**: Start by thoroughly analyzing the potential benefits of the technology for societal welfare alongside the harms it might present to individual privacy. This includes identifying who stands to gain and who might be adversely affected.\n",
      "\n",
      "2. **Engage Stakeholders**: Involve diverse stakeholders in discussions about the technology, including ethicists, technologists, policymakers, and representatives from affected communities. This ensures that multiple perspectives are considered, and it raises awareness of the potential implications.\n",
      "\n",
      "3. **Informed Consent**: Consider establishing frameworks where individuals have a say in the use of their data. This can include informed consent processes that allow people to understand what data is being collected, how it will be used, and the implications for their privacy.\n",
      "\n",
      "4. **Transparency and Accountability**: Emphasize transparency about how the technology works and the data it collects. Establish accountability mechanisms to ensure that the use of technology aligns with ethical standards and that there are consequences for misuse.\n",
      "\n",
      "5. **Least Intrusive Means**: Explore options for achieving societal welfare that minimize impacts on individual privacy. This could involve anonymizing data or using aggregated data so that individual identities are not directly exposed.\n",
      "\n",
      "6. **Create Ethical Guidelines**: Develop ethical guidelines or frameworks that govern the deployment of such technologies, ensuring that individual rights are protected while also allowing for societal benefits. This may involve formulating principles that advocate for balancing competing interests.\n",
      "\n",
      "7. **Regular Review and Adaptation**: As technology evolves, continuously review the ethical implications and societal impacts. Create structures for ongoing assessment, allowing for adaptations based on new insights or societal changes.\n",
      "\n",
      "8. **Public Dialogue and Education**: Foster a culture of open public dialogue about privacy and welfare issues, enhancing public understanding and enabling informed public opinion to shape technology use.\n",
      "\n",
      "9. **Legislative Frameworks**: Advocate for legislative measures that protect individual rights and privacy, even when societal benefits are at stake. Policies should be designed to prevent abuses and protect vulnerable populations.\n",
      "\n",
      "10. **Promote Alternatives**: Encourage research into alternative solutions that achieve societal goals without infringing on individual rights, thus advancing society without sacrificing essential privacy protections.\n",
      "\n",
      "By carefully weighing the importance of individual rights and the potential for collective good, societies can strive for a balanced approach that maximizes welfare while safeguarding personal freedoms. This balance is not static; it requires ongoing dialogue and reflection to adapt to new developments and societal values.\n",
      "\n",
      "# Response from competitor 2\n",
      "\n",
      "This is a classic ethical dilemma, pitting individual rights (specifically privacy) against the collective good (societal welfare). There's no easy answer, and the best approach depends heavily on the specifics of the technology, the context, and the values prioritized. Here's a breakdown of how to reconcile this dilemma, focusing on different perspectives and potential solutions:\n",
      "\n",
      "**1. Understanding the Trade-offs:**\n",
      "\n",
      "*   **Quantify the Harm to Privacy:** What specific privacy rights are being compromised? Is it anonymity, data security, freedom from surveillance, or something else?  How severe is the compromise?  Is it a small inconvenience or a significant erosion of personal autonomy?  Can the data be used to discriminate, manipulate, or harm individuals?\n",
      "*   **Quantify the Benefits to Society:** What specific societal benefits are being achieved? Is it saving lives, improving public health, reducing crime, or boosting economic productivity? How significant are these benefits? Who benefits the most?\n",
      "*   **Identify Alternatives:**  Are there alternative solutions that could achieve similar societal benefits with less impact on privacy?  Can the technology be modified to mitigate privacy risks?\n",
      "\n",
      "**2. Ethical Frameworks for Decision-Making:**\n",
      "\n",
      "*   **Utilitarianism:** This framework focuses on maximizing overall happiness and well-being for the greatest number of people.  A utilitarian approach would weigh the benefits of the technological advancement (in terms of societal welfare) against the harm caused by the loss of privacy.  If the benefits outweigh the harm, the utilitarian would likely support the advancement. However, it's crucial to consider the distribution of benefits and harms – are some individuals disproportionately burdened by the loss of privacy?\n",
      "*   **Deontology (Duty-Based Ethics):**  This framework emphasizes moral duties and rights.  Deontologists believe certain actions are inherently right or wrong, regardless of their consequences.  A deontological perspective might argue that privacy is a fundamental human right that should not be violated, even if doing so could lead to greater societal welfare.  However, some deontological approaches allow for exceptions to duties in exceptional circumstances.\n",
      "*   **Virtue Ethics:** This framework focuses on character and the cultivation of virtues like fairness, compassion, and wisdom.  A virtue ethicist would consider what a virtuous person would do in this situation.  They would likely emphasize the importance of transparency, honesty, and respect for individuals.\n",
      "*   **Rights-Based Approach:** This approach argues that individuals possess certain inalienable rights, including the right to privacy.  Any infringement on these rights requires a very strong justification.\n",
      "\n",
      "**3. Potential Solutions and Mitigation Strategies:**\n",
      "\n",
      "*   **Transparency and Informed Consent:**  Individuals should be fully informed about how their data will be collected, used, and protected.  They should have the right to consent to the use of their data and to withdraw their consent at any time.\n",
      "*   **Data Minimization:** Collect only the minimum amount of data necessary to achieve the desired societal benefits.  Avoid collecting data that is irrelevant or unnecessary.\n",
      "*   **Data Anonymization and Pseudonymization:**  Remove identifying information from data or replace it with pseudonyms to protect individual privacy.\n",
      "*   **Data Security:** Implement robust security measures to protect data from unauthorized access, use, or disclosure.\n",
      "*   **Purpose Limitation:**  Use data only for the specific purpose for which it was collected.  Do not use data for other purposes without obtaining consent.\n",
      "*   **Accountability and Oversight:**  Establish independent oversight mechanisms to ensure that the technology is being used ethically and responsibly.  Hold individuals and organizations accountable for violations of privacy.\n",
      "*   **Differential Privacy:** Add noise to data to protect individual privacy while still allowing for useful aggregate statistics to be derived.\n",
      "*   **Decentralization:**  Explore decentralized approaches to data storage and processing to reduce the risk of data breaches and misuse.\n",
      "*   **Public Deliberation and Engagement:**  Engage the public in a dialogue about the ethical implications of the technology and the trade-offs between privacy and societal welfare.  This can help to build consensus and ensure that the technology is being used in a way that reflects societal values.\n",
      "*   **Legal and Regulatory Frameworks:** Develop clear legal and regulatory frameworks to govern the collection, use, and protection of personal data.\n",
      "\n",
      "**4. Finding a Balance:**\n",
      "\n",
      "The key is to strive for a balance between protecting individual rights and promoting the collective good.  This requires a nuanced and context-specific approach that takes into account the specific circumstances of each case.  Here's a general framework:\n",
      "\n",
      "1.  **Prioritize Transparency:** Be upfront about the privacy implications.\n",
      "2.  **Seek Consent Whenever Possible:**  Give individuals control over their data.\n",
      "3.  **Minimize Data Collection:** Only collect what's absolutely necessary.\n",
      "4.  **Maximize Data Security:** Protect data from misuse.\n",
      "5.  **Provide Recourse:**  Establish mechanisms for individuals to challenge privacy violations.\n",
      "6.  **Regularly Re-evaluate:**  The ethical landscape changes, so regularly assess the technology's impact and adjust policies accordingly.\n",
      "\n",
      "**Example:**\n",
      "\n",
      "Imagine a technology that uses facial recognition to identify potential terrorists in public places. This could significantly improve public safety but at the cost of constant surveillance.\n",
      "\n",
      "*   **Utilitarian Approach:** Would weigh the potential lives saved against the loss of privacy for the entire population.\n",
      "*   **Deontological Approach:** Might argue that constant surveillance is a violation of fundamental rights, regardless of potential benefits.\n",
      "*   **Compromise:** Perhaps the technology could be used only in specific high-risk areas, with strict oversight and sunset clauses (temporary implementation), and with strong safeguards against misuse.\n",
      "\n",
      "**Conclusion:**\n",
      "\n",
      "Reconciling the ethical dilemma of individual rights versus the collective good is a complex and ongoing challenge. By carefully considering the trade-offs, applying ethical frameworks, and implementing appropriate mitigation strategies, we can strive to find a balance that protects both individual rights and promotes the well-being of society as a whole.  It requires ongoing dialogue, critical thinking, and a willingness to adapt as technology and societal values evolve.  The \"best\" solution is often a compromise that acknowledges the validity of both perspectives.\n",
      "\n",
      "\n",
      "# Response from competitor 3\n",
      "\n",
      "Reconciling the ethical dilemma of prioritizing individual rights over the collective good in a scenario where a technological advancement could significantly enhance societal welfare but at the cost of personal privacy requires a nuanced and multi-faceted approach. Here are some steps to consider:\n",
      "\n",
      "1. **Define the terms**: Clearly articulate the individual rights and collective good at stake. What specific aspects of personal privacy would be compromised, and how would the technological advancement benefit society?\n",
      "2. **Assess the trade-offs**: Weigh the potential benefits of the technological advancement against the potential costs to individual privacy. Consider the severity and likelihood of harm to individuals, as well as the potential long-term consequences.\n",
      "3. **Evaluate alternative solutions**: Explore alternative approaches that could achieve the desired societal benefits while minimizing the impact on individual privacy. This might involve modifying the technology, implementing safeguards, or establishing robust oversight mechanisms.\n",
      "4. **Engage in public debate and participation**: Foster an open and inclusive discussion about the potential trade-offs, involving diverse stakeholders, including experts, policymakers, and the general public. This can help ensure that the decision-making process is transparent, accountable, and responsive to societal values.\n",
      "5. **Apply ethical frameworks**: Utilize established ethical frameworks, such as the principles of beneficence (doing good), non-maleficence (doing no harm), autonomy, and justice, to guide the decision-making process.\n",
      "6. **Consider the principle of proportionality**: Ensure that the benefits of the technological advancement are proportionate to the potential risks and harms to individual privacy.\n",
      "7. **Establish robust safeguards**: Implement measures to protect individual privacy, such as data anonymization, encryption, and access controls, to mitigate the risks associated with the technological advancement.\n",
      "8. **Develop a framework for accountability**: Establish clear lines of accountability and oversight to prevent abuse of the technology and ensure that any negative consequences are addressed promptly.\n",
      "9. **Monitor and evaluate**: Continuously monitor the implementation of the technological advancement and its impact on individual privacy, making adjustments as needed to strike a balance between individual rights and the collective good.\n",
      "10. **Foster a culture of transparency and trust**: Encourage a culture of transparency, openness, and trust among stakeholders, recognizing that the success of the technological advancement depends on the willingness of individuals to participate and share their data.\n",
      "\n",
      "Ultimately, reconciling the ethical dilemma of prioritizing individual rights over the collective good requires a thoughtful, iterative, and adaptive approach that balances competing values and interests. By engaging in open dialogue, applying ethical frameworks, and establishing robust safeguards, it is possible to find a balance that promotes the collective good while respecting individual rights and privacy.\n",
      "\n",
      "**Example:**\n",
      "\n",
      "Consider a scenario where a new AI-powered surveillance system could significantly reduce crime rates in a city, but at the cost of collecting and analyzing vast amounts of personal data from citizens. To reconcile this dilemma, the city could:\n",
      "\n",
      "* Engage in public debate and participation to gauge citizens' concerns and values\n",
      "* Evaluate alternative solutions, such as implementing more targeted and limited surveillance measures\n",
      "* Establish robust safeguards, such as data anonymization and access controls, to protect individual privacy\n",
      "* Develop a framework for accountability, including regular audits and oversight by independent bodies\n",
      "* Continuously monitor the implementation of the system and its impact on individual privacy, making adjustments as needed to strike a balance between individual rights and the collective good.\n",
      "\n",
      "By following these steps, the city can work towards finding a balance that promotes public safety while respecting individual privacy and autonomy.\n",
      "\n",
      "\n",
      "\n",
      "Now respond with the JSON with the ranked order of the competitors, nothing else. Do not include markdown formatting or code blocks.\n"
     ]
    }
   ],
   "source": [
    "print(judge)"
   ]
  },
  {
   "cell_type": "code",
   "execution_count": 32,
   "metadata": {},
   "outputs": [],
   "source": [
    "judge_messages = [{\"role\": \"user\", \"content\": judge}]"
   ]
  },
  {
   "cell_type": "code",
   "execution_count": 33,
   "metadata": {},
   "outputs": [
    {
     "name": "stdout",
     "output_type": "stream",
     "text": [
      "{\"results\": [\"2\", \"1\", \"3\"]}\n"
     ]
    }
   ],
   "source": [
    "# Judgement time!\n",
    "\n",
    "openai = OpenAI()\n",
    "response = openai.chat.completions.create(\n",
    "    model=\"o3-mini\",\n",
    "    messages=judge_messages,\n",
    ")\n",
    "results = response.choices[0].message.content\n",
    "print(results)\n"
   ]
  },
  {
   "cell_type": "code",
   "execution_count": 34,
   "metadata": {},
   "outputs": [
    {
     "name": "stdout",
     "output_type": "stream",
     "text": [
      "Rank 1: gemini-2.0-flash\n",
      "Rank 2: gpt-4o-mini\n",
      "Rank 3: llama-3.3-70b-versatile\n"
     ]
    }
   ],
   "source": [
    "# OK let's turn this into results!\n",
    "\n",
    "results_dict = json.loads(results)\n",
    "ranks = results_dict[\"results\"]\n",
    "for index, result in enumerate(ranks):\n",
    "    competitor = competitors[int(result)-1]\n",
    "    print(f\"Rank {index+1}: {competitor}\")"
   ]
  },
  {
   "cell_type": "markdown",
   "metadata": {},
   "source": [
    "<table style=\"margin: 0; text-align: left; width:100%\">\n",
    "    <tr>\n",
    "        <td style=\"width: 150px; height: 150px; vertical-align: middle;\">\n",
    "            <img src=\"../assets/exercise.png\" width=\"150\" height=\"150\" style=\"display: block;\" />\n",
    "        </td>\n",
    "        <td>\n",
    "            <h2 style=\"color:#ff7800;\">Exercise</h2>\n",
    "            <span style=\"color:#ff7800;\">Which pattern(s) did this use? Try updating this to add another Agentic design pattern.\n",
    "            </span>\n",
    "        </td>\n",
    "    </tr>\n",
    "</table>"
   ]
  },
  {
   "cell_type": "markdown",
   "metadata": {},
   "source": [
    "<table style=\"margin: 0; text-align: left; width:100%\">\n",
    "    <tr>\n",
    "        <td style=\"width: 150px; height: 150px; vertical-align: middle;\">\n",
    "            <img src=\"../assets/business.png\" width=\"150\" height=\"150\" style=\"display: block;\" />\n",
    "        </td>\n",
    "        <td>\n",
    "            <h2 style=\"color:#00bfff;\">Commercial implications</h2>\n",
    "            <span style=\"color:#00bfff;\">These kinds of patterns - to send a task to multiple models, and evaluate results,\n",
    "            are common where you need to improve the quality of your LLM response. This approach can be universally applied\n",
    "            to business projects where accuracy is critical.\n",
    "            </span>\n",
    "        </td>\n",
    "    </tr>\n",
    "</table>"
   ]
  }
 ],
 "metadata": {
  "kernelspec": {
   "display_name": ".venv",
   "language": "python",
   "name": "python3"
  },
  "language_info": {
   "codemirror_mode": {
    "name": "ipython",
    "version": 3
   },
   "file_extension": ".py",
   "mimetype": "text/x-python",
   "name": "python",
   "nbconvert_exporter": "python",
   "pygments_lexer": "ipython3",
   "version": "3.12.11"
  }
 },
 "nbformat": 4,
 "nbformat_minor": 2
}
