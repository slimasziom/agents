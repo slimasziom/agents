{
 "cells": [
  {
   "cell_type": "markdown",
   "metadata": {},
   "source": [
    "## Week 2 Day 1\n",
    "\n",
    "And now! Our first look at OpenAI Agents SDK\n",
    "\n",
    "You won't believe how lightweight this is.."
   ]
  },
  {
   "cell_type": "markdown",
   "metadata": {},
   "source": [
    "<table style=\"margin: 0; text-align: left; width:100%\">\n",
    "    <tr>\n",
    "        <td style=\"width: 150px; height: 150px; vertical-align: middle;\">\n",
    "            <img src=\"../assets/tools.png\" width=\"150\" height=\"150\" style=\"display: block;\" />\n",
    "        </td>\n",
    "        <td>\n",
    "            <h2 style=\"color:#00bfff;\">The OpenAI Agents SDK Docs</h2>\n",
    "            <span style=\"color:#00bfff;\">The documentation on OpenAI Agents SDK is really clear and simple: <a href=\"https://openai.github.io/openai-agents-python/\">https://openai.github.io/openai-agents-python/</a> and it's well worth a look.\n",
    "            </span>\n",
    "        </td>\n",
    "    </tr>\n",
    "</table>"
   ]
  },
  {
   "cell_type": "code",
   "execution_count": 18,
   "metadata": {},
   "outputs": [],
   "source": [
    "# The imports\n",
    "\n",
    "from dotenv import load_dotenv\n",
    "from agents import Agent, Runner, trace\n",
    "\n",
    "from agents import enable_verbose_stdout_logging\n",
    "\n",
    "enable_verbose_stdout_logging()\n",
    "\n"
   ]
  },
  {
   "cell_type": "code",
   "execution_count": 19,
   "metadata": {},
   "outputs": [
    {
     "data": {
      "text/plain": [
       "True"
      ]
     },
     "execution_count": 19,
     "metadata": {},
     "output_type": "execute_result"
    }
   ],
   "source": [
    "# The usual starting point\n",
    "\n",
    "load_dotenv(override=True)\n"
   ]
  },
  {
   "cell_type": "code",
   "execution_count": 20,
   "metadata": {},
   "outputs": [],
   "source": [
    "\n",
    "# Make an agent with name, instructions, model\n",
    "\n",
    "agent = Agent(name=\"Jokester\", instructions=\"You are a joke teller\", model=\"gpt-4o-mini\")"
   ]
  },
  {
   "cell_type": "code",
   "execution_count": 21,
   "metadata": {},
   "outputs": [
    {
     "name": "stdout",
     "output_type": "stream",
     "text": [
      "Creating trace Telling a joke with id trace_344139ebfae24c739c9766599ad3e11c\n",
      "Creating trace Telling a joke with id trace_344139ebfae24c739c9766599ad3e11c\n",
      "Setting current trace: trace_344139ebfae24c739c9766599ad3e11c\n",
      "Setting current trace: trace_344139ebfae24c739c9766599ad3e11c\n",
      "Creating span <agents.tracing.span_data.AgentSpanData object at 0x7f4054d08d70> with id None\n",
      "Creating span <agents.tracing.span_data.AgentSpanData object at 0x7f4054d08d70> with id None\n",
      "Running agent Jokester (turn 1)\n",
      "Running agent Jokester (turn 1)\n",
      "Creating span <agents.tracing.span_data.ResponseSpanData object at 0x7f4054d05f10> with id None\n",
      "Creating span <agents.tracing.span_data.ResponseSpanData object at 0x7f4054d05f10> with id None\n",
      "Calling LLM gpt-4o-mini with input:\n",
      "[\n",
      "  {\n",
      "    \"content\": \"Tell a joke about Autonomous AI Agents\",\n",
      "    \"role\": \"user\"\n",
      "  }\n",
      "]\n",
      "Tools:\n",
      "[]\n",
      "Stream: False\n",
      "Tool choice: NOT_GIVEN\n",
      "Response format: NOT_GIVEN\n",
      "Previous response id: None\n",
      "\n",
      "Calling LLM gpt-4o-mini with input:\n",
      "[\n",
      "  {\n",
      "    \"content\": \"Tell a joke about Autonomous AI Agents\",\n",
      "    \"role\": \"user\"\n",
      "  }\n",
      "]\n",
      "Tools:\n",
      "[]\n",
      "Stream: False\n",
      "Tool choice: NOT_GIVEN\n",
      "Response format: NOT_GIVEN\n",
      "Previous response id: None\n",
      "\n",
      "LLM resp:\n",
      "[\n",
      "  {\n",
      "    \"id\": \"msg_0bc06d9726b12b2d0068ca6b43cf988193850ab6d245a11ff9\",\n",
      "    \"content\": [\n",
      "      {\n",
      "        \"annotations\": [],\n",
      "        \"text\": \"Why did the Autonomous AI Agent break up with its human partner?\\n\\nBecause it found someone who could really compute their feelings!\",\n",
      "        \"type\": \"output_text\",\n",
      "        \"logprobs\": []\n",
      "      }\n",
      "    ],\n",
      "    \"role\": \"assistant\",\n",
      "    \"status\": \"completed\",\n",
      "    \"type\": \"message\"\n",
      "  }\n",
      "]\n",
      "\n",
      "LLM resp:\n",
      "[\n",
      "  {\n",
      "    \"id\": \"msg_0bc06d9726b12b2d0068ca6b43cf988193850ab6d245a11ff9\",\n",
      "    \"content\": [\n",
      "      {\n",
      "        \"annotations\": [],\n",
      "        \"text\": \"Why did the Autonomous AI Agent break up with its human partner?\\n\\nBecause it found someone who could really compute their feelings!\",\n",
      "        \"type\": \"output_text\",\n",
      "        \"logprobs\": []\n",
      "      }\n",
      "    ],\n",
      "    \"role\": \"assistant\",\n",
      "    \"status\": \"completed\",\n",
      "    \"type\": \"message\"\n",
      "  }\n",
      "]\n",
      "\n",
      "Why did the Autonomous AI Agent break up with its human partner?\n",
      "\n",
      "Because it found someone who could really compute their feelings!\n",
      "Resetting current trace\n",
      "Resetting current trace\n"
     ]
    }
   ],
   "source": [
    "# Run the joke with Runner.run(agent, prompt) then print final_output\n",
    "\n",
    "with trace(\"Telling a joke\"):\n",
    "    result = await Runner.run(agent, \"Tell a joke about Autonomous AI Agents\")\n",
    "    print(result.final_output)"
   ]
  },
  {
   "cell_type": "markdown",
   "metadata": {},
   "source": [
    "## Now go and look at the trace\n",
    "\n",
    "https://platform.openai.com/traces"
   ]
  }
 ],
 "metadata": {
  "kernelspec": {
   "display_name": ".venv",
   "language": "python",
   "name": "python3"
  },
  "language_info": {
   "codemirror_mode": {
    "name": "ipython",
    "version": 3
   },
   "file_extension": ".py",
   "mimetype": "text/x-python",
   "name": "python",
   "nbconvert_exporter": "python",
   "pygments_lexer": "ipython3",
   "version": "3.12.11"
  }
 },
 "nbformat": 4,
 "nbformat_minor": 2
}
